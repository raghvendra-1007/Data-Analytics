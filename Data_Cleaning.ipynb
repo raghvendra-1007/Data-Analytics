{
 "cells": [
  {
   "cell_type": "markdown",
   "metadata": {},
   "source": [
    "DATA CLEANING BASICS"
   ]
  },
  {
   "cell_type": "markdown",
   "metadata": {},
   "source": [
    "1. Detecting Missing Values in a CSV File."
   ]
  },
  {
   "cell_type": "code",
   "execution_count": 9,
   "metadata": {},
   "outputs": [
    {
     "name": "stdout",
     "output_type": "stream",
     "text": [
      "missing values - Product     1\n",
      "Price       1\n",
      "Category    1\n",
      "dtype: int64\n",
      "  Product  Price     Category\n",
      "0  Laptop  800.0  Electronics\n",
      "1   Shirt   25.0          NaN\n",
      "2  Laptop  800.0  Electronics\n",
      "3     NaN   50.0     Clothing\n",
      "4   Phone    NaN  Electronics\n"
     ]
    }
   ],
   "source": [
    "import pandas as pd\n",
    "\n",
    "df=pd.read_csv(\"retail_store.csv\")\n",
    "\n",
    "missing_values=df.isnull().sum()\n",
    "\n",
    "print(f\"missing values - {missing_values}\")\n",
    "\n",
    "print(df)"
   ]
  },
  {
   "cell_type": "markdown",
   "metadata": {},
   "source": [
    "2. Filling the Missing Values in a CSV File."
   ]
  },
  {
   "cell_type": "code",
   "execution_count": 10,
   "metadata": {},
   "outputs": [
    {
     "name": "stdout",
     "output_type": "stream",
     "text": [
      "   Product   Price     Category\n",
      "0   Laptop  800.00  Electronics\n",
      "1    Shirt   25.00          NaN\n",
      "2   Laptop  800.00  Electronics\n",
      "3  Unknown   50.00     Clothing\n",
      "4    Phone  418.75  Electronics\n"
     ]
    },
    {
     "name": "stderr",
     "output_type": "stream",
     "text": [
      "C:\\Users\\raghv\\AppData\\Local\\Temp\\ipykernel_9156\\1509921124.py:1: FutureWarning: A value is trying to be set on a copy of a DataFrame or Series through chained assignment using an inplace method.\n",
      "The behavior will change in pandas 3.0. This inplace method will never work because the intermediate object on which we are setting values always behaves as a copy.\n",
      "\n",
      "For example, when doing 'df[col].method(value, inplace=True)', try using 'df.method({col: value}, inplace=True)' or df[col] = df[col].method(value) instead, to perform the operation inplace on the original object.\n",
      "\n",
      "\n",
      "  df[\"Price\"].fillna(df[\"Price\"].mean().sum(),inplace=True)\n",
      "C:\\Users\\raghv\\AppData\\Local\\Temp\\ipykernel_9156\\1509921124.py:3: FutureWarning: A value is trying to be set on a copy of a DataFrame or Series through chained assignment using an inplace method.\n",
      "The behavior will change in pandas 3.0. This inplace method will never work because the intermediate object on which we are setting values always behaves as a copy.\n",
      "\n",
      "For example, when doing 'df[col].method(value, inplace=True)', try using 'df.method({col: value}, inplace=True)' or df[col] = df[col].method(value) instead, to perform the operation inplace on the original object.\n",
      "\n",
      "\n",
      "  df[\"Product\"].fillna(\"Unknown\",inplace=True)\n"
     ]
    }
   ],
   "source": [
    "df[\"Price\"].fillna(df[\"Price\"].mean().sum(),inplace=True)\n",
    "\n",
    "df[\"Product\"].fillna(\"Unknown\",inplace=True)\n",
    "\n",
    "print(df)"
   ]
  },
  {
   "cell_type": "markdown",
   "metadata": {},
   "source": [
    "3. Dropping Rows with Missing Values."
   ]
  },
  {
   "cell_type": "code",
   "execution_count": 11,
   "metadata": {},
   "outputs": [
    {
     "name": "stdout",
     "output_type": "stream",
     "text": [
      "   Product   Price     Category\n",
      "0   Laptop  800.00  Electronics\n",
      "2   Laptop  800.00  Electronics\n",
      "3  Unknown   50.00     Clothing\n",
      "4    Phone  418.75  Electronics\n"
     ]
    }
   ],
   "source": [
    "df=df.dropna()\n",
    "\n",
    "print(df)"
   ]
  },
  {
   "cell_type": "markdown",
   "metadata": {},
   "source": [
    "4. Make a Function that Drops the Rows with Missing Values."
   ]
  },
  {
   "cell_type": "code",
   "execution_count": 12,
   "metadata": {},
   "outputs": [
    {
     "data": {
      "text/html": [
       "<div>\n",
       "<style scoped>\n",
       "    .dataframe tbody tr th:only-of-type {\n",
       "        vertical-align: middle;\n",
       "    }\n",
       "\n",
       "    .dataframe tbody tr th {\n",
       "        vertical-align: top;\n",
       "    }\n",
       "\n",
       "    .dataframe thead th {\n",
       "        text-align: right;\n",
       "    }\n",
       "</style>\n",
       "<table border=\"1\" class=\"dataframe\">\n",
       "  <thead>\n",
       "    <tr style=\"text-align: right;\">\n",
       "      <th></th>\n",
       "      <th>Product</th>\n",
       "      <th>Price</th>\n",
       "      <th>Category</th>\n",
       "    </tr>\n",
       "  </thead>\n",
       "  <tbody>\n",
       "    <tr>\n",
       "      <th>0</th>\n",
       "      <td>Laptop</td>\n",
       "      <td>800.0</td>\n",
       "      <td>Electronics</td>\n",
       "    </tr>\n",
       "    <tr>\n",
       "      <th>2</th>\n",
       "      <td>Laptop</td>\n",
       "      <td>800.0</td>\n",
       "      <td>Electronics</td>\n",
       "    </tr>\n",
       "  </tbody>\n",
       "</table>\n",
       "</div>"
      ],
      "text/plain": [
       "  Product  Price     Category\n",
       "0  Laptop  800.0  Electronics\n",
       "2  Laptop  800.0  Electronics"
      ]
     },
     "execution_count": 12,
     "metadata": {},
     "output_type": "execute_result"
    }
   ],
   "source": [
    "import pandas as pd\n",
    "\n",
    "def Clean_data(file_name):\n",
    "    df=pd.read_csv(file_name)\n",
    "    df=df.dropna()\n",
    "    return df\n",
    "\n",
    "Clean_data(\"retail_store.csv\")"
   ]
  },
  {
   "cell_type": "markdown",
   "metadata": {},
   "source": [
    "5. Make a Function that Cleans the Text Data."
   ]
  },
  {
   "cell_type": "code",
   "execution_count": 13,
   "metadata": {},
   "outputs": [
    {
     "data": {
      "text/plain": [
       "'excellent product the quality is topnotch and the delivery was super fast not happy with the battery life it drains too quickly even on standby great value for money ive been using it for a week and it works perfectly the customer service was not helpful i had an issue and they took too long to respond loved the design and performance feels premium and wellbuilt the product arrived with a minor scratch not a big deal but still disappointing very satisfied works as expected and even better than described waste of money stopped working after just two days highly recommended i bought it for my brother and he loves it delivery was delayed by five days the product is good but the experience wasnt great sound quality is amazing best ive experienced in this price range overheats after prolonged usage not ideal for heavy tasks packaging was impressive and the setup process was hasslefree the screen resolution is not as sharp as expected looks a bit outdated best purchase ive made this year would buy again without hesitation'"
      ]
     },
     "execution_count": 13,
     "metadata": {},
     "output_type": "execute_result"
    }
   ],
   "source": [
    "import re\n",
    "\n",
    "def Clean_text(file_name):\n",
    "    with open(file_name,\"r\",encoding=\"utf-8\",errors=\"ignore\") as file:\n",
    "        text=file.read()\n",
    "        text=text.strip()\n",
    "        text=re.sub(r\"[^\\w\\s]\",\"\",text)\n",
    "        text=text.lower()\n",
    "    return text\n",
    "\n",
    "Clean_text(\"customer_reviews.txt\")"
   ]
  },
  {
   "cell_type": "markdown",
   "metadata": {},
   "source": [
    "6. Removing Duplicates entries in a list."
   ]
  },
  {
   "cell_type": "code",
   "execution_count": 14,
   "metadata": {},
   "outputs": [
    {
     "name": "stdout",
     "output_type": "stream",
     "text": [
      "    ID     Name  Age\n",
      "0  101    Alice   25\n",
      "1  102      Bob   30\n",
      "2  103  Charlie   35\n",
      "4  104    David   40\n",
      "6  105      Eve   45\n"
     ]
    }
   ],
   "source": [
    "data = {\n",
    "    \"ID\": [101, 102, 103, 101, 104, 102, 105],\n",
    "    \"Name\": [\"Alice\", \"Bob\", \"Charlie\", \"Alice\", \"David\", \"Bob\", \"Eve\"],\n",
    "    \"Age\": [25, 30, 35, 25, 40, 30, 45],\n",
    "}\n",
    "\n",
    "df=pd.DataFrame(data)\n",
    "unique_data=df.drop_duplicates()\n",
    "print(unique_data)"
   ]
  },
  {
   "cell_type": "markdown",
   "metadata": {},
   "source": [
    "7. Extracting Keywords from Text."
   ]
  },
  {
   "cell_type": "code",
   "execution_count": 15,
   "metadata": {},
   "outputs": [
    {
     "name": "stdout",
     "output_type": "stream",
     "text": [
      "['Apple', 'Samsung Galaxy S21', 'Python Programming', 'Tesla Model S', 'Nike Air Max', 'The Great Gatsby', 'Sony WH', 'Coca', 'Amazon Echo', 'Dell XPS 13']\n"
     ]
    }
   ],
   "source": [
    "strings = [\n",
    "    \"Apple - Fresh and Organic\",\n",
    "    \"Samsung Galaxy S21 - 128GB\",\n",
    "    \"Python Programming - Beginner to Advanced\",\n",
    "    \"Tesla Model S - Electric Car\",\n",
    "    \"Nike Air Max - Running Shoes\",\n",
    "    \"The Great Gatsby - Classic Novel\",\n",
    "    \"Sony WH-1000XM4 - Noise Cancelling Headphones\",\n",
    "    \"Coca-Cola - Refreshing Drink\",\n",
    "    \"Amazon Echo - Smart Speaker\",\n",
    "    \"Dell XPS 13 - Laptop with Intel i7\"\n",
    "]\n",
    "\n",
    "strings_list=[item.split(\"-\")[0].strip() for item in strings]\n",
    "\n",
    "print(strings_list)"
   ]
  }
 ],
 "metadata": {
  "kernelspec": {
   "display_name": "base",
   "language": "python",
   "name": "python3"
  },
  "language_info": {
   "codemirror_mode": {
    "name": "ipython",
    "version": 3
   },
   "file_extension": ".py",
   "mimetype": "text/x-python",
   "name": "python",
   "nbconvert_exporter": "python",
   "pygments_lexer": "ipython3",
   "version": "3.12.7"
  }
 },
 "nbformat": 4,
 "nbformat_minor": 2
}
