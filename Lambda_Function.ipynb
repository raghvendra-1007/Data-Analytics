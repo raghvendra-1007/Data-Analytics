{
 "cells": [
  {
   "cell_type": "markdown",
   "metadata": {},
   "source": [
    "1. Convert Celsius to Fahrenheit: Given temps = [0, 20, 25, 30, 37], use map() with a lambda function to convert each temperature to Fahrenheit. What is the output?"
   ]
  },
  {
   "cell_type": "code",
   "execution_count": 1,
   "metadata": {},
   "outputs": [
    {
     "name": "stdout",
     "output_type": "stream",
     "text": [
      "fahrenheit - [32.0, 68.0, 77.0, 86.0, 98.6]\n"
     ]
    }
   ],
   "source": [
    "temps = [0, 20, 25, 30, 37]\n",
    "fahrenheit=list(map(lambda x:(x*9/5)+32,temps))\n",
    "print(f\"fahrenheit - {fahrenheit}\")"
   ]
  },
  {
   "cell_type": "markdown",
   "metadata": {},
   "source": [
    "2. Filter even numbers: Given nums = [12, 15, 8, 5, 21, 32, 18], use filter() with a lambda function to keep only even numbers. What is the output?"
   ]
  },
  {
   "cell_type": "code",
   "execution_count": 2,
   "metadata": {},
   "outputs": [
    {
     "name": "stdout",
     "output_type": "stream",
     "text": [
      "even_nums - [12, 8, 32, 18]\n"
     ]
    }
   ],
   "source": [
    "nums = [12, 15, 8, 5, 21, 32, 18]\n",
    "even_nums=list(filter(lambda x:x%2==0,nums))\n",
    "print(f\"even_nums - {even_nums}\")"
   ]
  },
  {
   "cell_type": "markdown",
   "metadata": {},
   "source": [
    "3. Calculate total cost: Given products = [{\"name\": \"Pen\", \"price\": 5, \"qty\": 10}, {\"name\": \"Notebook\", \"price\": 30, \"qty\": 3}], use map() with a lambda function to add a \"total_cost\" field (price × qty) to each dictionary. What is the result?"
   ]
  },
  {
   "cell_type": "code",
   "execution_count": 3,
   "metadata": {},
   "outputs": [
    {
     "name": "stdout",
     "output_type": "stream",
     "text": [
      "[{'name': 'Pen', 'price': 5, 'qty': 10, 'total_cost': 50}, {'name': 'Notebook', 'price': 30, 'qty': 3, 'total_cost': 90}]\n"
     ]
    }
   ],
   "source": [
    "products = [{\"name\": \"Pen\", \"price\": 5, \"qty\": 10}, {\"name\": \"Notebook\", \"price\": 30, \"qty\": 3}]\n",
    "total=list(map(lambda i:{**i, \"total_cost\": i[\"price\"]*i[\"qty\"]},products))\n",
    "print(total)"
   ]
  },
  {
   "cell_type": "markdown",
   "metadata": {},
   "source": [
    "4. Find product of numbers: Given nums = [2, 3, 4, 5], use reduce() with a lambda function to compute the product of all numbers. What is the output?"
   ]
  },
  {
   "cell_type": "code",
   "execution_count": 4,
   "metadata": {},
   "outputs": [
    {
     "name": "stdout",
     "output_type": "stream",
     "text": [
      "product - 120\n"
     ]
    }
   ],
   "source": [
    "nums = [2, 3, 4, 5]\n",
    "from functools import reduce\n",
    "product=reduce(lambda x,y:x*y,nums)\n",
    "print(f\"product - {product}\")"
   ]
  },
  {
   "cell_type": "markdown",
   "metadata": {},
   "source": [
    "5. Capitalize names using map(): Given names = [\"alice\", \"bob\", \"charlie\"], use map() with str.capitalize to capitalize each name. What is the resulting list?"
   ]
  },
  {
   "cell_type": "code",
   "execution_count": 5,
   "metadata": {},
   "outputs": [
    {
     "name": "stdout",
     "output_type": "stream",
     "text": [
      "['ALICE', 'BOB', 'CHARLIE']\n"
     ]
    }
   ],
   "source": [
    "names = [\"alice\", \"bob\", \"charlie\"]\n",
    "capital_names=list(map(lambda x:x.upper(),names))\n",
    "print(capital_names)"
   ]
  },
  {
   "cell_type": "markdown",
   "metadata": {},
   "source": [
    "6. Remove empty strings: Given strings = [\"hello\", \"\", \"world\", \" \", \"python\", \"\"], use filter() with a lambda function to remove empty strings and spaces. What is the output?"
   ]
  },
  {
   "cell_type": "code",
   "execution_count": 6,
   "metadata": {},
   "outputs": [
    {
     "name": "stdout",
     "output_type": "stream",
     "text": [
      "['hello', 'world', 'python']\n"
     ]
    }
   ],
   "source": [
    "strings = [\"hello\", \"\", \"world\", \" \", \"python\", \"\"]\n",
    "clean_string=list(filter(lambda x:x.strip()!=\"\",strings))\n",
    "print(clean_string)"
   ]
  },
  {
   "cell_type": "markdown",
   "metadata": {},
   "source": [
    "7. Find longest word using reduce(): Given words = [\"apple\", \"banana\", \"cherry\", \"watermelon\", \"kiwi\"], use reduce() with a lambda function to find the longest word. What is the output?"
   ]
  },
  {
   "cell_type": "code",
   "execution_count": 7,
   "metadata": {},
   "outputs": [
    {
     "name": "stdout",
     "output_type": "stream",
     "text": [
      "watermelon\n"
     ]
    }
   ],
   "source": [
    "words = [\"apple\", \"banana\", \"cherry\", \"watermelon\", \"kiwi\"]\n",
    "longest=reduce(lambda x,y:x if len(x)>len(y) else y,words)\n",
    "print(longest)"
   ]
  }
 ],
 "metadata": {
  "kernelspec": {
   "display_name": "base",
   "language": "python",
   "name": "python3"
  },
  "language_info": {
   "codemirror_mode": {
    "name": "ipython",
    "version": 3
   },
   "file_extension": ".py",
   "mimetype": "text/x-python",
   "name": "python",
   "nbconvert_exporter": "python",
   "pygments_lexer": "ipython3",
   "version": "3.12.7"
  }
 },
 "nbformat": 4,
 "nbformat_minor": 2
}
