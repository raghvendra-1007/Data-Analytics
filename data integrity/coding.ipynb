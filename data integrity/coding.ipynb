{
 "cells": [
  {
   "cell_type": "markdown",
   "metadata": {},
   "source": [
    "# DATA INTEGRITY"
   ]
  },
  {
   "cell_type": "markdown",
   "metadata": {},
   "source": [
    "1. Write a Python function that validates email addresses in a given dataset. An email is considered valid if it follows the standard format \"example@domain.com\". Print invalid emails.\n",
    "\n",
    "emails = [\"user@example.com\", \"wrong-email@\", \"john.doe@site\", \"alice@domain.com\"]\n"
   ]
  },
  {
   "cell_type": "code",
   "execution_count": 5,
   "metadata": {},
   "outputs": [
    {
     "name": "stdout",
     "output_type": "stream",
     "text": [
      "invalid email is wrong-email@\n",
      "invalid email is john.doe@site\n"
     ]
    }
   ],
   "source": [
    "import re\n",
    "\n",
    "emails = [\"user@example.com\", \"wrong-email@\", \"john.doe@site\", \"alice@domain.com\"]\n",
    "\n",
    "def valid_email(email):\n",
    "    pattern = r\"^[\\w\\.-]+@[\\w\\.-]+\\.\\w+$\"\n",
    "    return bool(re.match(pattern,email))\n",
    "for email in emails:\n",
    "    if not valid_email(email):\n",
    "        print(f\"invalid email is {email}\")"
   ]
  },
  {
   "cell_type": "markdown",
   "metadata": {},
   "source": [
    "2. Given a DataFrame with customer names and their purchase amounts, detect and fill missing (None or NaN) values with the average purchase amount.\n",
    "\n",
    "df=pd.DataFrame({\n",
    "    \"Customer\": [\"Alice\", \"Bob\", \"Charlie\"],\n",
    "    \"Purchase\": [250.5, None, 300.0]\n",
    "})\n"
   ]
  },
  {
   "cell_type": "code",
   "execution_count": 3,
   "metadata": {},
   "outputs": [
    {
     "name": "stdout",
     "output_type": "stream",
     "text": [
      "  Customer  Purchase  cleaned_purchase\n",
      "0    Alice     250.5            250.50\n",
      "1      Bob       NaN            275.25\n",
      "2  Charlie     300.0            300.00\n"
     ]
    }
   ],
   "source": [
    "import pandas as pd\n",
    "import numpy as np\n",
    "\n",
    "df=pd.DataFrame({\n",
    "    \"Customer\": [\"Alice\", \"Bob\", \"Charlie\"],\n",
    "    \"Purchase\": [250.5, None, 300.0]\n",
    "})\n",
    "\n",
    "try:\n",
    "    avg=np.nanmean(df[\"Purchase\"])\n",
    "    df[\"cleaned_purchase\"]=df[\"Purchase\"].fillna(avg)\n",
    "    print(df)  \n",
    "except Exception as e:\n",
    "    print(f\"ERROR : {e}\")"
   ]
  },
  {
   "cell_type": "markdown",
   "metadata": {},
   "source": [
    "3. Write a function that checks whether phone numbers in a list are exactly 10 digits long and contain only numbers. Print invalid numbers.\n",
    "\n",
    "phone_numbers = [\"9876543210\", \"12345\", \"98A76B5432\", \"7896541230\"]"
   ]
  },
  {
   "cell_type": "code",
   "execution_count": 10,
   "metadata": {},
   "outputs": [
    {
     "name": "stdout",
     "output_type": "stream",
     "text": [
      "12345 is a invalid number\n",
      "98A76B5432 is a invalid number\n"
     ]
    }
   ],
   "source": [
    "phone_numbers = [\"9876543210\", \"12345\", \"98A76B5432\", \"7896541230\"]\n",
    "\n",
    "for number in phone_numbers:\n",
    "    if not number.isdigit() or len(number)!=10:\n",
    "        print(f\"{number} is a invalid number\")"
   ]
  },
  {
   "cell_type": "markdown",
   "metadata": {},
   "source": [
    "4. A dataset contains names and age values, but some entries have incorrect formats (e.g., \"Twenty\", \"-5\"). Write a function to validate name and ages and replace invalid ones with 0.\n",
    "\n",
    "df = pd.DataFrame({\n",
    "    \"Name\": [\"John\", \"Sara\", \"Mike\"],\n",
    "    \"Age\": [\"25\", \"Twenty\", \"-5\"]\n",
    "})"
   ]
  },
  {
   "cell_type": "code",
   "execution_count": 15,
   "metadata": {},
   "outputs": [
    {
     "name": "stdout",
     "output_type": "stream",
     "text": [
      "   Name  Age\n",
      "0  John   25\n",
      "1  Sara    0\n",
      "2  Mike    0\n"
     ]
    }
   ],
   "source": [
    "import pandas as pd \n",
    "\n",
    "df = pd.DataFrame({\n",
    "    \"Name\": [\"John\", \"Sara\", \"Mike\"],\n",
    "    \"Age\": [\"25\", \"Twenty\", \"-5\"]\n",
    "})\n",
    "\n",
    "def validation(row):\n",
    "    if not isinstance(row[\"Name\"],str) or not row[\"Name\"].isalpha():\n",
    "        row[\"Name\"]=\"Unknown\"\n",
    "    else:\n",
    "        row[\"Name\"]=row[\"Name\"]\n",
    "    if not str(row[\"Age\"]).isdigit() or not int(row[\"Age\"])>0:\n",
    "        row[\"Age\"]=0\n",
    "    else:\n",
    "        row[\"Age\"]=int(row[\"Age\"])\n",
    "    return pd.Series([row[\"Name\"],row[\"Age\"]])\n",
    "\n",
    "df[[\"Name\",\"Age\"]]=df.apply(validation,axis=1)\n",
    "print(df)"
   ]
  },
  {
   "cell_type": "markdown",
   "metadata": {},
   "source": [
    "5. In a hospital dataset, replace \"unknown\" in the \"AdmissionDate\" column with NaN and check for missing values.\n",
    "\n",
    "df = pd.DataFrame({\n",
    "    \"Patient\": [\"Ravi\", \"Sneha\", \"Amit\"],\n",
    "    \"AdmissionDate\": [\"2023-03-10\", \"unknown\", \"2023-04-12\"]\n",
    "})"
   ]
  },
  {
   "cell_type": "code",
   "execution_count": 19,
   "metadata": {},
   "outputs": [
    {
     "name": "stdout",
     "output_type": "stream",
     "text": [
      "  Patient AdmissionDate\n",
      "0    Ravi    2023-03-10\n",
      "1   Sneha          <NA>\n",
      "2    Amit    2023-04-12\n",
      "   Patient  AdmissionDate\n",
      "0    False          False\n",
      "1    False           True\n",
      "2    False          False\n"
     ]
    }
   ],
   "source": [
    "import pandas as pd\n",
    "\n",
    "df = pd.DataFrame({\n",
    "    \"Patient\": [\"Ravi\", \"Sneha\", \"Amit\"],\n",
    "    \"AdmissionDate\": [\"2023-03-10\", \"unknown\", \"2023-04-12\"]\n",
    "})\n",
    "\n",
    "df[\"AdmissionDate\"]=df[\"AdmissionDate\"].replace(\"unknown\",pd.NA)\n",
    "print(df)\n",
    "print(df.isnull())"
   ]
  },
  {
   "cell_type": "markdown",
   "metadata": {},
   "source": [
    "6. Write a function to validate loan application data. Ensure the loan amount is positive and the credit score is between 300-900.\n",
    "\n",
    "loan = {\"Amount\": -2000, \"Score\": 850}"
   ]
  },
  {
   "cell_type": "code",
   "execution_count": 22,
   "metadata": {},
   "outputs": [
    {
     "name": "stdout",
     "output_type": "stream",
     "text": [
      "invalid data\n"
     ]
    }
   ],
   "source": [
    "loan = {\"Amount\": -2000, \"Score\": 850}\n",
    "\n",
    "if loan[\"Amount\"]>0 or (loan[\"Amount\"]>300 and loan[\"Amount\"]<900):\n",
    "    print(loan)\n",
    "else:\n",
    "    print(\"invalid data\")"
   ]
  },
  {
   "cell_type": "markdown",
   "metadata": {},
   "source": [
    "7. Write a script to identify duplicate user entries in a dataset.\n",
    "\n",
    "df = pd.DataFrame({\n",
    "    \"UserID\": [101, 102, 103, 101],\n",
    "    \"Name\": [\"Alice\", \"Bob\", \"Charlie\", \"Alice\"]\n",
    "})"
   ]
  },
  {
   "cell_type": "code",
   "execution_count": 25,
   "metadata": {},
   "outputs": [
    {
     "name": "stdout",
     "output_type": "stream",
     "text": [
      "   UserID     Name\n",
      "0     101    Alice\n",
      "1     102      Bob\n",
      "2     103  Charlie\n"
     ]
    }
   ],
   "source": [
    "import pandas as pd\n",
    "\n",
    "df = pd.DataFrame({\n",
    "    \"UserID\": [101, 102, 103, 101],\n",
    "    \"Name\": [\"Alice\", \"Bob\", \"Charlie\", \"Alice\"]\n",
    "})\n",
    "\n",
    "df=df.drop_duplicates()\n",
    "print(df)"
   ]
  },
  {
   "cell_type": "markdown",
   "metadata": {},
   "source": [
    "8. A dataset has missing energy usage (kWh) values. Fill them using linear interpolation.\n",
    "\n",
    "df = pd.DataFrame({\n",
    "    \"Date\": [\"2023-06-01\", \"2023-06-02\", \"2023-06-03\"],\n",
    "    \"Usage(kWh)\": [15, None, 18]\n",
    "})"
   ]
  },
  {
   "cell_type": "code",
   "execution_count": 36,
   "metadata": {},
   "outputs": [
    {
     "name": "stdout",
     "output_type": "stream",
     "text": [
      "        Date  Usage(kWh)\n",
      "0 2023-06-01        15.0\n",
      "1 2023-06-02        16.5\n",
      "2 2023-06-03        18.0\n"
     ]
    }
   ],
   "source": [
    "import pandas as pd\n",
    "\n",
    "df = pd.DataFrame({\n",
    "    \"Date\": [\"2023-06-01\", \"2023-06-02\", \"2023-06-03\"],\n",
    "    \"Usage(kWh)\": [15, None, 18]\n",
    "})\n",
    "\n",
    "df[\"Date\"]=pd.to_datetime(df[\"Date\"])\n",
    "df[\"Usage(kWh)\"]=df[\"Usage(kWh)\"].interpolate()\n",
    "\n",
    "print(df)"
   ]
  },
  {
   "cell_type": "markdown",
   "metadata": {},
   "source": [
    "9. Ensure that student scores are between 0-100. If invalid, print an error message.\n",
    "\n",
    "df = pd.DataFrame({\n",
    "    \"Student\": [\"Amit\", \"Reema\", \"Suresh\"],\n",
    "    \"Score\": [95, 120, -10]\n",
    "})"
   ]
  },
  {
   "cell_type": "code",
   "execution_count": 35,
   "metadata": {},
   "outputs": [
    {
     "name": "stdout",
     "output_type": "stream",
     "text": [
      "Error\n"
     ]
    }
   ],
   "source": [
    "import pandas as pd \n",
    "\n",
    "df = pd.DataFrame({\n",
    "    \"Student\": [\"Amit\", \"Reema\", \"Suresh\"],\n",
    "    \"Score\": [95, 120, -10]\n",
    "})\n",
    "\n",
    "if df[\"Score\"].between(0,100).all():\n",
    "    print(df)\n",
    "else:\n",
    "    print(\"Error\")"
   ]
  },
  {
   "cell_type": "markdown",
   "metadata": {},
   "source": [
    "10. A dataset contains banking transactions. Raise an error if \"AccountID\" is missing.\n",
    "\n",
    "transaction = {\"AccountID\": None, \"Amount\": 1500}"
   ]
  },
  {
   "cell_type": "code",
   "execution_count": 33,
   "metadata": {},
   "outputs": [
    {
     "name": "stdout",
     "output_type": "stream",
     "text": [
      "AccountID is Missing\n"
     ]
    }
   ],
   "source": [
    "transaction = {\"AccountID\": None, \"Amount\": 1500}\n",
    "\n",
    "try:\n",
    "    if transaction[\"AccountID\"]==None:\n",
    "        raise ValueError(\"AccountID is Missing\")\n",
    "    else:\n",
    "        print(\"everything is valid\")\n",
    "except Exception as e:\n",
    "    print(e)"
   ]
  }
 ],
 "metadata": {
  "kernelspec": {
   "display_name": "base",
   "language": "python",
   "name": "python3"
  },
  "language_info": {
   "name": "python",
   "version": "3.12.7"
  }
 },
 "nbformat": 4,
 "nbformat_minor": 2
}
