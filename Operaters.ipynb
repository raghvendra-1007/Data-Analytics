{
 "cells": [
  {
   "cell_type": "markdown",
   "id": "21e71662-a1e6-4aa3-8d2a-ea0c723ea8b6",
   "metadata": {},
   "source": [
    "# OPERATERS"
   ]
  },
  {
   "cell_type": "code",
   "execution_count": 7,
   "id": "84ee0433-3d4b-44fb-baba-bb264b33b793",
   "metadata": {},
   "outputs": [],
   "source": [
    "a=10\n",
    "b=7"
   ]
  },
  {
   "cell_type": "code",
   "execution_count": 8,
   "id": "d581dfc8-2248-4df9-ba03-6bdf4e082f56",
   "metadata": {},
   "outputs": [
    {
     "data": {
      "text/plain": [
       "17"
      ]
     },
     "execution_count": 8,
     "metadata": {},
     "output_type": "execute_result"
    }
   ],
   "source": [
    "a+b"
   ]
  },
  {
   "cell_type": "code",
   "execution_count": 9,
   "id": "87006f64-f005-4ccb-8be5-9f6e4782fa2e",
   "metadata": {},
   "outputs": [
    {
     "data": {
      "text/plain": [
       "3"
      ]
     },
     "execution_count": 9,
     "metadata": {},
     "output_type": "execute_result"
    }
   ],
   "source": [
    "a-b"
   ]
  },
  {
   "cell_type": "code",
   "execution_count": 10,
   "id": "bb78f911-2c60-47c2-ba61-0af7f972a18b",
   "metadata": {},
   "outputs": [
    {
     "data": {
      "text/plain": [
       "70"
      ]
     },
     "execution_count": 10,
     "metadata": {},
     "output_type": "execute_result"
    }
   ],
   "source": [
    "a*b"
   ]
  },
  {
   "cell_type": "code",
   "execution_count": 11,
   "id": "551fdd07-7b11-4f9d-af78-9700f4a46817",
   "metadata": {},
   "outputs": [
    {
     "data": {
      "text/plain": [
       "1.4285714285714286"
      ]
     },
     "execution_count": 11,
     "metadata": {},
     "output_type": "execute_result"
    }
   ],
   "source": [
    "a/b"
   ]
  },
  {
   "cell_type": "code",
   "execution_count": 12,
   "id": "7b844051-da2b-4c2d-97f3-fa4bb019aaa5",
   "metadata": {},
   "outputs": [
    {
     "data": {
      "text/plain": [
       "1"
      ]
     },
     "execution_count": 12,
     "metadata": {},
     "output_type": "execute_result"
    }
   ],
   "source": [
    "a//b"
   ]
  },
  {
   "cell_type": "code",
   "execution_count": 13,
   "id": "7e6c7425-d65d-41f2-99c3-e2575c810d37",
   "metadata": {},
   "outputs": [
    {
     "data": {
      "text/plain": [
       "3"
      ]
     },
     "execution_count": 13,
     "metadata": {},
     "output_type": "execute_result"
    }
   ],
   "source": [
    "a%b"
   ]
  },
  {
   "cell_type": "markdown",
   "id": "1b15f54b-1911-47a4-8786-75591818393e",
   "metadata": {},
   "source": [
    "COMPARISION OPERATORS"
   ]
  },
  {
   "cell_type": "code",
   "execution_count": 14,
   "id": "c5d83526-51de-4378-aa15-1b5a435f3844",
   "metadata": {},
   "outputs": [],
   "source": [
    "a=5\n",
    "b=3"
   ]
  },
  {
   "cell_type": "code",
   "execution_count": 15,
   "id": "81c0b5d9-2e17-4d87-9eaf-cb99fd841db5",
   "metadata": {},
   "outputs": [
    {
     "data": {
      "text/plain": [
       "False"
      ]
     },
     "execution_count": 15,
     "metadata": {},
     "output_type": "execute_result"
    }
   ],
   "source": [
    "a==b"
   ]
  },
  {
   "cell_type": "code",
   "execution_count": 16,
   "id": "b7d306ff-3ae2-435e-b9f7-fd2241b1334e",
   "metadata": {},
   "outputs": [
    {
     "data": {
      "text/plain": [
       "True"
      ]
     },
     "execution_count": 16,
     "metadata": {},
     "output_type": "execute_result"
    }
   ],
   "source": [
    "a!=b"
   ]
  },
  {
   "cell_type": "code",
   "execution_count": 17,
   "id": "77225bf6-8119-485c-9996-17d3683df920",
   "metadata": {},
   "outputs": [
    {
     "data": {
      "text/plain": [
       "True"
      ]
     },
     "execution_count": 17,
     "metadata": {},
     "output_type": "execute_result"
    }
   ],
   "source": [
    "a>b"
   ]
  },
  {
   "cell_type": "code",
   "execution_count": 18,
   "id": "f8b99b77-02f2-4c50-b2e2-29b1b80a6ba5",
   "metadata": {},
   "outputs": [
    {
     "data": {
      "text/plain": [
       "False"
      ]
     },
     "execution_count": 18,
     "metadata": {},
     "output_type": "execute_result"
    }
   ],
   "source": [
    "a<b"
   ]
  },
  {
   "cell_type": "code",
   "execution_count": 19,
   "id": "81f9522b-792f-4ba8-b4b6-2712bcff45d7",
   "metadata": {},
   "outputs": [],
   "source": [
    "c=7\n",
    "d=7"
   ]
  },
  {
   "cell_type": "code",
   "execution_count": 20,
   "id": "fa0fd8bb-934b-4bd5-8e01-80c8b6b199b4",
   "metadata": {},
   "outputs": [
    {
     "data": {
      "text/plain": [
       "True"
      ]
     },
     "execution_count": 20,
     "metadata": {},
     "output_type": "execute_result"
    }
   ],
   "source": [
    "c>=d"
   ]
  },
  {
   "cell_type": "code",
   "execution_count": 21,
   "id": "54677241-4b0b-4a05-9e96-7ff272085f4e",
   "metadata": {},
   "outputs": [
    {
     "data": {
      "text/plain": [
       "True"
      ]
     },
     "execution_count": 21,
     "metadata": {},
     "output_type": "execute_result"
    }
   ],
   "source": [
    "c<=d"
   ]
  },
  {
   "cell_type": "markdown",
   "id": "5ba34f67-cd9d-4172-895f-f6405883a5c3",
   "metadata": {},
   "source": [
    "LOGICAl OPERATORS"
   ]
  },
  {
   "cell_type": "code",
   "execution_count": 22,
   "id": "8468fecd-f63b-4ee7-bfd1-41047a050611",
   "metadata": {},
   "outputs": [],
   "source": [
    "a=5\n",
    "b=11"
   ]
  },
  {
   "cell_type": "code",
   "execution_count": 23,
   "id": "cb1d98d4-bd2b-4473-9eee-15751564b38b",
   "metadata": {},
   "outputs": [
    {
     "name": "stdout",
     "output_type": "stream",
     "text": [
      "False\n"
     ]
    }
   ],
   "source": [
    "print(a>7 and b>7)"
   ]
  },
  {
   "cell_type": "code",
   "execution_count": 24,
   "id": "2e8a8ec9-3b83-4ceb-8c8e-1a3c4a705b75",
   "metadata": {},
   "outputs": [
    {
     "name": "stdout",
     "output_type": "stream",
     "text": [
      "True\n"
     ]
    }
   ],
   "source": [
    "print(a>7 or b>7)"
   ]
  },
  {
   "cell_type": "code",
   "execution_count": 25,
   "id": "a435b5e5-0277-4198-84b9-32ca0ee3300e",
   "metadata": {},
   "outputs": [
    {
     "name": "stdout",
     "output_type": "stream",
     "text": [
      "True\n"
     ]
    }
   ],
   "source": [
    "print(not(a>b))"
   ]
  },
  {
   "cell_type": "markdown",
   "id": "625f6bc7-9df3-4b99-adcb-30eb7a71f0a0",
   "metadata": {},
   "source": [
    "MEMBERSHIP OPERATORS"
   ]
  },
  {
   "cell_type": "code",
   "execution_count": 26,
   "id": "67878db9-9f58-4bf6-b1d0-79e2ed51a786",
   "metadata": {},
   "outputs": [],
   "source": [
    "list=[1,8,58,7,6,2,4]"
   ]
  },
  {
   "cell_type": "code",
   "execution_count": 27,
   "id": "bb1f4987-bf92-4342-95d8-0f0be0bb1714",
   "metadata": {},
   "outputs": [],
   "source": [
    "a=4"
   ]
  },
  {
   "cell_type": "code",
   "execution_count": 28,
   "id": "1a482efe-de1b-468f-8f6a-b01542e85338",
   "metadata": {},
   "outputs": [
    {
     "name": "stdout",
     "output_type": "stream",
     "text": [
      "True\n"
     ]
    }
   ],
   "source": [
    "print(a in list)"
   ]
  },
  {
   "cell_type": "code",
   "execution_count": 29,
   "id": "860a8e3b-8ff8-43b7-98c7-ddf10f949eae",
   "metadata": {},
   "outputs": [
    {
     "name": "stdout",
     "output_type": "stream",
     "text": [
      "False\n"
     ]
    }
   ],
   "source": [
    "print(a not in list)"
   ]
  },
  {
   "cell_type": "code",
   "execution_count": 30,
   "id": "e214c084-e8e1-4c5d-b14c-67b0418ff205",
   "metadata": {},
   "outputs": [],
   "source": [
    "b=5"
   ]
  },
  {
   "cell_type": "code",
   "execution_count": 31,
   "id": "c4276adc-c8f1-43c8-9982-bd21728f49eb",
   "metadata": {},
   "outputs": [
    {
     "name": "stdout",
     "output_type": "stream",
     "text": [
      "False\n"
     ]
    }
   ],
   "source": [
    "print(b in list)"
   ]
  },
  {
   "cell_type": "code",
   "execution_count": 32,
   "id": "8fa53e3d-f0e3-4b8b-800c-971fc197ded4",
   "metadata": {},
   "outputs": [
    {
     "name": "stdout",
     "output_type": "stream",
     "text": [
      "True\n"
     ]
    }
   ],
   "source": [
    "print(b not in list)"
   ]
  }
 ],
 "metadata": {
  "kernelspec": {
   "display_name": "base",
   "language": "python",
   "name": "python3"
  },
  "language_info": {
   "codemirror_mode": {
    "name": "ipython",
    "version": 3
   },
   "file_extension": ".py",
   "mimetype": "text/x-python",
   "name": "python",
   "nbconvert_exporter": "python",
   "pygments_lexer": "ipython3",
   "version": "3.12.7"
  }
 },
 "nbformat": 4,
 "nbformat_minor": 5
}
