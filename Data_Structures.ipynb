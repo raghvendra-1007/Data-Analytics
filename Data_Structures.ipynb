{
 "cells": [
  {
   "cell_type": "markdown",
   "metadata": {},
   "source": [
    "DATA STRUCTURES"
   ]
  },
  {
   "cell_type": "markdown",
   "metadata": {},
   "source": [
    "1. Modify customer_purchases to include a purchase date and filter transactions from the last 30 days.\n",
    "   From 1 march.\n",
    "\n",
    "customer_purchases = {\n",
    "    \"Ravi\": {\"Product\": \"Laptop\", \"Amount\": 75000, \"City\": \"Delhi\", \"Date\": \"2024-02-10\"},\n",
    "    \"Aisha\": {\"Product\": \"Smartphone\", \"Amount\": 30000, \"City\": \"Mumbai\", \"Date\": \"2024-03-05\"},\n",
    "    \"Priya\": {\"Product\": \"Tablet\", \"Amount\": 25000, \"City\": \"Bangalore\", \"Date\": \"2024-03-02\"},\n",
    "}\n"
   ]
  },
  {
   "cell_type": "code",
   "execution_count": 1,
   "metadata": {},
   "outputs": [
    {
     "name": "stdout",
     "output_type": "stream",
     "text": [
      "{'Aisha': {'Product': 'Smartphone', 'Amount': 30000, 'City': 'Mumbai', 'Date': '2024-03-05'}}\n",
      "{'Priya': {'Product': 'Tablet', 'Amount': 25000, 'City': 'Bangalore', 'Date': '2024-03-02'}}\n"
     ]
    }
   ],
   "source": [
    "customer_purchases = {\n",
    "    \"Ravi\": {\"Product\": \"Laptop\", \"Amount\": 75000, \"City\": \"Delhi\", \"Date\": \"2024-02-10\"},\n",
    "    \"Aisha\": {\"Product\": \"Smartphone\", \"Amount\": 30000, \"City\": \"Mumbai\", \"Date\": \"2024-03-05\"},\n",
    "    \"Priya\": {\"Product\": \"Tablet\", \"Amount\": 25000, \"City\": \"Bangalore\", \"Date\": \"2024-03-02\"},\n",
    "}\n",
    "\n",
    "\n",
    "for customers,details in customer_purchases.items():\n",
    "    if details[\"Date\"] >= \"2024-02-29\":\n",
    "        print({customers:details})"
   ]
  },
  {
   "cell_type": "markdown",
   "metadata": {},
   "source": [
    "2. Add a new sales entry dynamically and update category-wise sales.\n",
    "\n",
    "sales_data = [\n",
    "    (\"Electronics\", 50000),\n",
    "    (\"Fashion\", 30000),\n",
    "    (\"Electronics\", 70000),\n",
    "    (\"Home Decor\", 20000),\n",
    "    (\"Fashion\", 50000),\n",
    "]\n",
    "\n",
    "new_entry = (\"Home Decor\", 15000)\n"
   ]
  },
  {
   "cell_type": "code",
   "execution_count": 2,
   "metadata": {},
   "outputs": [
    {
     "name": "stdout",
     "output_type": "stream",
     "text": [
      "{'Electronics': 120000, 'Fashion': 80000, 'Home Decor': 35000}\n"
     ]
    }
   ],
   "source": [
    "sales_data = [\n",
    "    (\"Electronics\", 50000),\n",
    "    (\"Fashion\", 30000),\n",
    "    (\"Electronics\", 70000),\n",
    "    (\"Home Decor\", 20000),\n",
    "    (\"Fashion\", 50000),\n",
    "]\n",
    "\n",
    "new_entry = (\"Home Decor\", 15000)\n",
    "\n",
    "sales_data.append(new_entry)\n",
    "\n",
    "update_data = {}\n",
    "\n",
    "for products,sales in sales_data:\n",
    "    if products in update_data:    \n",
    "        update_data[products] += sales\n",
    "    else:\n",
    "        update_data[products] = sales\n",
    "\n",
    "print(update_data)"
   ]
  },
  {
   "cell_type": "markdown",
   "metadata": {},
   "source": [
    "3. Check that Age is between 18 and 80 and Spending is positive.\n",
    "\n",
    "customer_record = {\"Customer_ID\": 101, \"Name\": \"Ravi\", \"Age\": 120, \"City\": \"Delhi\", \"Spending\": -5000}\n"
   ]
  },
  {
   "cell_type": "code",
   "execution_count": 3,
   "metadata": {},
   "outputs": [
    {
     "name": "stdout",
     "output_type": "stream",
     "text": [
      "no valid record found\n"
     ]
    }
   ],
   "source": [
    "customer_record = {\"Customer_ID\": 101, \"Name\": \"Ravi\", \"Age\": 120, \"City\": \"Delhi\", \"Spending\": -5000}\n",
    "\n",
    "if customer_record[\"Age\"]>=18 and customer_record[\"Age\"]<=80 and customer_record[\"Spending\"]>0:\n",
    "    print(customer_record)\n",
    "else:\n",
    "    print(\"no valid record found\")"
   ]
  },
  {
   "cell_type": "markdown",
   "metadata": {},
   "source": [
    "4. Categorize pages as High, Medium, or Low Traffic.\n",
    "\n",
    "website_traffic = {\n",
    "    \"Home Page\": 10500,\n",
    "    \"Product Page\": 7500,\n",
    "    \"Checkout\": 3200,\n",
    "    \"Contact Page\": 1200\n",
    "}\n"
   ]
  },
  {
   "cell_type": "code",
   "execution_count": 4,
   "metadata": {},
   "outputs": [
    {
     "name": "stdout",
     "output_type": "stream",
     "text": [
      "5600.0\n",
      "{'Home Page': 10500, 'Product Page': 7500, 'Checkout': 3200, 'Contact Page': 1200}\n",
      "Home Page : high traffic\n",
      "Product Page : medium traffic\n",
      "Checkout : medium traffic\n",
      "Contact Page : low traffic\n"
     ]
    }
   ],
   "source": [
    "website_traffic = {\n",
    "    \"Home Page\": 10500,\n",
    "    \"Product Page\": 7500,\n",
    "    \"Checkout\": 3200,\n",
    "    \"Contact Page\": 1200\n",
    "}\n",
    " \n",
    "avg = sum(website_traffic.values())/len(website_traffic.keys())\n",
    "print(avg)\n",
    "print(website_traffic)\n",
    "for pages,visits in website_traffic.items():\n",
    "    \n",
    "    if visits>=8000:\n",
    "        print(f\"{pages} : high traffic\")\n",
    "    elif visits<=8000 and visits>=3000:\n",
    "        print(f\"{pages} : medium traffic\")\n",
    "    else:\n",
    "        print (f\"{pages} : low traffic\")"
   ]
  },
  {
   "cell_type": "markdown",
   "metadata": {},
   "source": [
    "5. Aggregate sales by category and sub-category.\n",
    "\n",
    "sales_data = [\n",
    "    (\"Electronics\", \"Laptops\", 50000),\n",
    "    (\"Electronics\", \"Mobiles\", 70000),\n",
    "    (\"Fashion\", \"Shoes\", 30000),\n",
    "    (\"Home Decor\", \"Furniture\", 20000),\n",
    "    (\"Fashion\", \"Clothing\", 50000),\n",
    "]\n"
   ]
  },
  {
   "cell_type": "code",
   "execution_count": 5,
   "metadata": {},
   "outputs": [
    {
     "name": "stdout",
     "output_type": "stream",
     "text": [
      "{'Laptops': 50000, 'Mobiles': 70000, 'Shoes': 30000, 'Furniture': 20000, 'Clothing': 50000}\n",
      "{'Electronics': 120000, 'Fashion': 80000, 'Home Decor': 20000}\n"
     ]
    }
   ],
   "source": [
    "sales_data = [\n",
    "    (\"Electronics\", \"Laptops\", 50000),\n",
    "    (\"Electronics\", \"Mobiles\", 70000),\n",
    "    (\"Fashion\", \"Shoes\", 30000),\n",
    "    (\"Home Decor\", \"Furniture\", 20000),\n",
    "    (\"Fashion\", \"Clothing\", 50000),\n",
    "]\n",
    "\n",
    "sub =  {}\n",
    "cat = {}\n",
    "for category,sub_category,sales in sales_data:\n",
    "    if sub_category in sub:\n",
    "        sub[sub_category]+=sales\n",
    "    else:\n",
    "        sub[sub_category]=sales\n",
    "\n",
    "    if category in cat:\n",
    "        cat[category]+=sales\n",
    "    else:\n",
    "        cat[category]=sales\n",
    "print(sub)\n",
    "print(cat)\n",
    "\n"
   ]
  },
  {
   "cell_type": "markdown",
   "metadata": {},
   "source": [
    "6. Categorize customers into Low, Mid, and High Spenders.\n",
    "\n",
    "customer_purchases = {\n",
    "    \"Ravi\": {\"Amount\": 75000},\n",
    "    \"Aisha\": {\"Amount\": 30000},\n",
    "    \"Priya\": {\"Amount\": 25000},\n",
    "    \"Karan\": {\"Amount\": 55000}\n",
    "}\n"
   ]
  },
  {
   "cell_type": "code",
   "execution_count": 6,
   "metadata": {},
   "outputs": [
    {
     "name": "stdout",
     "output_type": "stream",
     "text": [
      "Ravi : High spenders\n",
      "Aisha : Mid spenders\n",
      "Priya : Low spenders\n",
      "Karan : High spenders\n"
     ]
    }
   ],
   "source": [
    "customer_purchases = {\n",
    "    \"Ravi\": {\"Amount\": 75000},\n",
    "    \"Aisha\": {\"Amount\": 30000},\n",
    "    \"Priya\": {\"Amount\": 25000},\n",
    "    \"Karan\": {\"Amount\": 55000}\n",
    "}\n",
    "\n",
    "for names,details in customer_purchases.items():\n",
    "    if details[\"Amount\"]>=50000:\n",
    "        print(f\"{names} : High spenders\")\n",
    "    elif details[\"Amount\"]<=50000 and details[\"Amount\"]>=29000:\n",
    "        print(f\"{names} : Mid spenders\")\n",
    "    else:\n",
    "        print(f\"{names} : Low spenders\")"
   ]
  },
  {
   "cell_type": "markdown",
   "metadata": {},
   "source": [
    "7. Mark items with stock ≤5 for restocking.\n",
    "\n",
    "inventory = {\n",
    "    \"Laptop\": 10,\n",
    "    \"Phone\": 3,\n",
    "    \"Tablet\": 1,\n",
    "    \"Headphones\": 7\n",
    "}\n"
   ]
  },
  {
   "cell_type": "code",
   "execution_count": 7,
   "metadata": {},
   "outputs": [
    {
     "name": "stdout",
     "output_type": "stream",
     "text": [
      "Phone needs restocking\n",
      "Tablet needs restocking\n"
     ]
    }
   ],
   "source": [
    "inventory = {\n",
    "    \"Laptop\": 10,\n",
    "    \"Phone\": 3,\n",
    "    \"Tablet\": 1,\n",
    "    \"Headphones\": 7\n",
    "}\n",
    "\n",
    "for product,stock in inventory.items():\n",
    "    if stock<=5:\n",
    "        print(f\"{product} needs restocking\")"
   ]
  }
 ],
 "metadata": {
  "kernelspec": {
   "display_name": "base",
   "language": "python",
   "name": "python3"
  },
  "language_info": {
   "codemirror_mode": {
    "name": "ipython",
    "version": 3
   },
   "file_extension": ".py",
   "mimetype": "text/x-python",
   "name": "python",
   "nbconvert_exporter": "python",
   "pygments_lexer": "ipython3",
   "version": "3.12.7"
  }
 },
 "nbformat": 4,
 "nbformat_minor": 2
}
