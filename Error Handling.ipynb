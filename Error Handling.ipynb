{
 "cells": [
  {
   "cell_type": "markdown",
   "metadata": {},
   "source": [
    "# ERROR HANDLING IN DATA ANALYTICS"
   ]
  },
  {
   "cell_type": "markdown",
   "metadata": {},
   "source": [
    "1️⃣ Convert Stock Prices to Floats, Replace Invalid Prices with 0\n",
    "\n",
    "stocks = [{\"Stock\": \"Tata\", \"Price\": \"1200\"}, {\"Stock\": \"Reliance\", \"Price\": \"Invalid\"}, {\"Stock\": \"Infosys\", \"Price\": None}]"
   ]
  },
  {
   "cell_type": "code",
   "execution_count": 30,
   "metadata": {},
   "outputs": [
    {
     "name": "stdout",
     "output_type": "stream",
     "text": [
      "      Stock    Price\n",
      "0      Tata     1200\n",
      "1  Reliance  Invalid\n",
      "2   Infosys     None\n",
      "you have a valuerror\n",
      "0    {'Stock': 'Tata', 'Price': 1200.0}\n",
      "1     {'Stock': 'Reliance', 'Price': 0}\n",
      "2      {'Stock': 'Infosys', 'Price': 0}\n",
      "Name: latest, dtype: object\n"
     ]
    }
   ],
   "source": [
    "stocks = [{\"Stock\": \"Tata\", \"Price\": \"1200\"}, {\"Stock\": \"Reliance\", \"Price\": \"Invalid\"}, {\"Stock\": \"Infosys\", \"Price\": None}]\n",
    "\n",
    "import pandas as pd\n",
    "df=pd.DataFrame(stocks)\n",
    "print(df)\n",
    "\n",
    "def cleaned(value):\n",
    "    try:\n",
    "        stock=str(value[\"Stock\"])if value[\"Stock\"] else \"unknown\"\n",
    "        price=float(value[\"Price\"])if not pd.isna(value[\"Price\"]) else 0\n",
    "        return {\"Stock\":stock, \"Price\":price}\n",
    "    except ValueError:\n",
    "        print(\"you have a valuerror\")\n",
    "        return {\"Stock\":stock, \"Price\":0}\n",
    "    except TypeError:\n",
    "        print(\"you have a typerror\")\n",
    "        return {\"Stock\":stock, \"Price\":0}\n",
    "\n",
    "df[\"latest\"]=df.apply(cleaned,axis=1)\n",
    "print(df[\"latest\"])"
   ]
  },
  {
   "cell_type": "markdown",
   "metadata": {},
   "source": [
    "2️⃣ Fill Missing Values in Product Sales Data\n",
    "\n",
    "data = {\"Product\": [\"Laptop\", None, \"Mobile\"], \"Price\": [75000, None, 25000]}"
   ]
  },
  {
   "cell_type": "code",
   "execution_count": 32,
   "metadata": {},
   "outputs": [
    {
     "name": "stdout",
     "output_type": "stream",
     "text": [
      "  Product    Price\n",
      "0  Laptop  75000.0\n",
      "1    None      NaN\n",
      "2  Mobile  25000.0\n",
      "  Product    Price                                   latest\n",
      "0  Laptop  75000.0  {'Product': 'Laptop', 'Price': 75000.0}\n",
      "1    None      NaN       {'Product': 'unknown', 'Price': 0}\n",
      "2  Mobile  25000.0  {'Product': 'Mobile', 'Price': 25000.0}\n"
     ]
    }
   ],
   "source": [
    "data = {\"Product\": [\"Laptop\", None, \"Mobile\"], \"Price\": [75000, None, 25000]}\n",
    "\n",
    "import pandas as pd \n",
    "df=pd.DataFrame(data)\n",
    "print(df)\n",
    "\n",
    "def cleaned(value):\n",
    "    try:\n",
    "        product = str(value[\"Product\"]) if value[\"Product\"] else \"unknown\"\n",
    "        price = float(value[\"Price\"]) if not pd.isna(value[\"Price\"]) else 0\n",
    "        return {\"Product\":product,\"Price\":price}\n",
    "    except ValueError:\n",
    "        return {\"Product\":product,\"Price\":0}\n",
    "    except TypeError:\n",
    "        return {\"Product\":product,\"Price\":0}\n",
    "\n",
    "df[\"latest\"]=df.apply(cleaned,axis=1)\n",
    "\n",
    "print(df)"
   ]
  },
  {
   "cell_type": "markdown",
   "metadata": {},
   "source": [
    "3️⃣ Validate Order Details\n",
    "\n",
    "orders = [{\"OrderID\": 101, \"DeliveryDate\": \"2023-01-10\"}, {\"OrderID\": None, \"DeliveryDate\": \"Invalid Date\"}]"
   ]
  },
  {
   "cell_type": "code",
   "execution_count": 49,
   "metadata": {},
   "outputs": [
    {
     "name": "stdout",
     "output_type": "stream",
     "text": [
      "   OrderID  DeliveryDate\n",
      "0    101.0    2023-01-10\n",
      "1      NaN  Invalid Date\n",
      "   OrderID  DeliveryDate                         cleaned_orders\n",
      "0    101.0    2023-01-10  {'OrderID': 101, 'DeliveryDate': NaT}\n",
      "1      NaN  Invalid Date    {'OrderID': 0, 'DeliveryDate': NaT}\n"
     ]
    }
   ],
   "source": [
    "orders = [{\"OrderID\": 101, \"DeliveryDate\": \"2023-01-10\"}, {\"OrderID\": None, \"DeliveryDate\": \"Invalid Date\"}]\n",
    "\n",
    "import pandas as pd \n",
    "df=pd.DataFrame(orders)\n",
    "print(df)\n",
    "\n",
    "def cleaned(value):\n",
    "    try:\n",
    "        id=int(value[\"OrderID\"]) if not pd.isna(value[\"OrderID\"]) else 0\n",
    "        date=pd.to_datetime(\"DeliveryDate\",errors=\"coerce\")\n",
    "        return {\"OrderID\":id,\"DeliveryDate\":date}\n",
    "    except ValueError:\n",
    "        return {\"OrderID\":0,\"DeliveryDate\":None}\n",
    "    except TypeError:\n",
    "        return {\"OrderID\":0,\"DeliveryDate\":None}\n",
    "\n",
    "df[\"cleaned_orders\"]=df.apply(cleaned,axis=1)\n",
    "print(df)"
   ]
  },
  {
   "cell_type": "markdown",
   "metadata": {},
   "source": [
    "4️⃣ Read Multiple CSV Files and Log Missing Files\n",
    "\n",
    "files = [\"jan_sales.csv\", \"feb_sales.csv\", \"mar_sales.csv\"]"
   ]
  },
  {
   "cell_type": "code",
   "execution_count": 17,
   "metadata": {},
   "outputs": [
    {
     "name": "stdout",
     "output_type": "stream",
     "text": [
      "[Errno 2] No such file or directory: 'jan_sales.csv'\n",
      "[Errno 2] No such file or directory: 'mar_sales.csv'\n",
      "[None,       Product  Sales  Quantity\n",
      "0      Laptop  50000        50\n",
      "1      Mobile  30000       100\n",
      "2      Tablet  20000        70\n",
      "3  Headphones  15000       200\n",
      "4  Smartwatch  10000        90, None]\n"
     ]
    }
   ],
   "source": [
    "files = [\"jan_sales.csv\", \"feb_sales.csv\", \"mar_sales.csv\"]\n",
    "\n",
    "import pandas as pd\n",
    "\n",
    "def loader(filepath):\n",
    "    try:\n",
    "        df=pd.read_csv(filepath)\n",
    "        return df\n",
    "        \n",
    "    except Exception as e:\n",
    "        print(e)\n",
    "\n",
    "file_loading=[loader(file)for file in files]\n",
    "print(file_loading)"
   ]
  },
  {
   "cell_type": "markdown",
   "metadata": {},
   "source": [
    "5️⃣ Process Transactions, Convert Amounts to Float\n",
    "\n",
    "transactions = [{\"ID\": \"TXN1001\", \"Amount\": \"5000\"}, {\"ID\": \"TXN1002\", \"Amount\": \"Invalid\"}, {\"ID\": None, \"Amount\": 3000}]"
   ]
  },
  {
   "cell_type": "code",
   "execution_count": 33,
   "metadata": {},
   "outputs": [
    {
     "name": "stdout",
     "output_type": "stream",
     "text": [
      "        ID   Amount\n",
      "0  TXN1001     5000\n",
      "1  TXN1002  Invalid\n",
      "2     None     3000\n",
      "        ID   Amount                        cleaned_txn\n",
      "0  TXN1001     5000  {'ID': 'TXN1001', 'Amount': 5000}\n",
      "1  TXN1002  Invalid     {'ID': 'TXN1002', 'Amount': 0}\n",
      "2     None     3000  {'ID': 'Unknown', 'Amount': 3000}\n"
     ]
    }
   ],
   "source": [
    "transactions = [{\"ID\": \"TXN1001\", \"Amount\": \"5000\"}, {\"ID\": \"TXN1002\", \"Amount\": \"Invalid\"}, {\"ID\": None, \"Amount\": 3000}]\n",
    "\n",
    "import pandas as pd\n",
    "df=pd.DataFrame(transactions)\n",
    "print(df)\n",
    "\n",
    "def cleaned(value):\n",
    "    try:\n",
    "        id=str(value[\"ID\"]) if value[\"ID\"] else \"Unknown\"\n",
    "        amount=int(value[\"Amount\"]) if not pd.isna(value[\"Amount\"]) else 0\n",
    "        return {\"ID\":id,\"Amount\":amount}\n",
    "    except ValueError:\n",
    "        return {\"ID\":id,\"Amount\":0}\n",
    "    except TypeError:\n",
    "        return {\"ID\":id,\"Amount\":0} \n",
    "\n",
    "df[\"cleaned_txn\"]=df.apply(cleaned,axis=1)\n",
    "print(df)"
   ]
  },
  {
   "cell_type": "markdown",
   "metadata": {},
   "source": [
    "6️⃣ Convert Bill Amounts to Integers\n",
    "\n",
    "data = [{\"Customer\": \"Rahul\", \"Bill Amount\": \"1200\"}, {\"Customer\": \"Aisha\", \"Bill Amount\": \"Five Hundred\"}, {\"Customer\": \"Karan\", \"Bill Amount\": \"2000\"}]"
   ]
  },
  {
   "cell_type": "code",
   "execution_count": 34,
   "metadata": {},
   "outputs": [
    {
     "name": "stdout",
     "output_type": "stream",
     "text": [
      "  Customer   Bill Amount\n",
      "0    Rahul          1200\n",
      "1    Aisha  Five Hundred\n",
      "2    Karan          2000\n",
      "  Customer   Bill Amount                                cleaned_data\n",
      "0    Rahul          1200  {'Customer': 'Rahul', 'Bill Amount': 1200}\n",
      "1    Aisha  Five Hundred     {'Customer': 'Aisha', 'Bill Amount': 0}\n",
      "2    Karan          2000  {'Customer': 'Karan', 'Bill Amount': 2000}\n"
     ]
    }
   ],
   "source": [
    "data = [{\"Customer\": \"Rahul\", \"Bill Amount\": \"1200\"}, {\"Customer\": \"Aisha\", \"Bill Amount\": \"Five Hundred\"}, {\"Customer\": \"Karan\", \"Bill Amount\": \"2000\"}]\n",
    "\n",
    "import pandas as pd\n",
    "\n",
    "df=pd.DataFrame(data)\n",
    "print(df)\n",
    "\n",
    "def cleaned(value):\n",
    "    try:\n",
    "        customer=str(value[\"Customer\"]) if value[\"Customer\"] else \"Unknown\"\n",
    "        amount=int(value[\"Bill Amount\"]) if not pd.isna(value[\"Bill Amount\"]) else 0\n",
    "        return {\"Customer\":customer,\"Bill Amount\":amount}\n",
    "    except ValueError:\n",
    "        return {\"Customer\":customer,\"Bill Amount\":0}\n",
    "    except TypeError:\n",
    "        return {\"Customer\":customer,\"Bill Amount\":0}\n",
    "\n",
    "df[\"cleaned_data\"]=df.apply(cleaned,axis=1)\n",
    "print(df)"
   ]
  },
  {
   "cell_type": "markdown",
   "metadata": {},
   "source": [
    "7️⃣ Handle Missing Warehouse File Gracefully\n",
    "\n",
    "file_path = \"warehouse_data.csv\""
   ]
  },
  {
   "cell_type": "code",
   "execution_count": 20,
   "metadata": {},
   "outputs": [
    {
     "name": "stdout",
     "output_type": "stream",
     "text": [
      "[Errno 2] No such file or directory: 'warehouse_data.csv'\n"
     ]
    }
   ],
   "source": [
    "import pandas as pd\n",
    "\n",
    "filepath=\"warehouse_data.csv\"\n",
    "\n",
    "try:\n",
    "    df=pd.read_csv(filepath)\n",
    "    print(df)\n",
    "except Exception as e:\n",
    "    print(e)\n"
   ]
  },
  {
   "cell_type": "markdown",
   "metadata": {},
   "source": [
    "8️⃣ Replace Missing Ages with Average Age in DataFrame\n",
    "\n",
    "data = {\"Patient\": [\"Rahul\", \"Amit\", \"Anita\"], \"Age\": [30, None, 40]}"
   ]
  },
  {
   "cell_type": "code",
   "execution_count": 38,
   "metadata": {},
   "outputs": [
    {
     "name": "stdout",
     "output_type": "stream",
     "text": [
      "  Patient   Age\n",
      "0   Rahul  30.0\n",
      "1    Amit   NaN\n",
      "2   Anita  40.0\n",
      "  Patient   Age  updated age\n",
      "0   Rahul  30.0           30\n",
      "1    Amit   NaN            0\n",
      "2   Anita  40.0           40\n"
     ]
    }
   ],
   "source": [
    "data = {\"Patient\": [\"Rahul\", \"Amit\", \"Anita\"], \"Age\": [30, None, 40]}\n",
    "\n",
    "import pandas as pd\n",
    "\n",
    "df=pd.DataFrame(data)\n",
    "print(df)\n",
    "\n",
    "cleaned=[]\n",
    "\n",
    "for value in df[\"Age\"]:\n",
    "\n",
    "    try:\n",
    "        cleaned.append(int(value))\n",
    "        \n",
    "    except Exception as e:\n",
    "        \n",
    "        cleaned.append(0)\n",
    "\n",
    "df[\"updated age\"]=cleaned\n",
    "print(df)\n"
   ]
  },
  {
   "cell_type": "markdown",
   "metadata": {},
   "source": [
    "9️⃣ Read File and Convert Each Line to Integer, Logging Errors\n",
    "\n",
    "file_content = [\"100\", \"200\", \"Invalid\", \"400\"]\n"
   ]
  },
  {
   "cell_type": "code",
   "execution_count": 28,
   "metadata": {},
   "outputs": [
    {
     "name": "stdout",
     "output_type": "stream",
     "text": [
      "[100, 200, 0, 400]\n"
     ]
    }
   ],
   "source": [
    "file_content = [\"100\", \"200\", \"Invalid\", \"400\"]\n",
    "\n",
    "import logging\n",
    "\n",
    "logging.basicConfig(filename=\"error_log.txt\", level=logging.ERROR)\n",
    "\n",
    "def cleaned(value):\n",
    "    try:\n",
    "        return int(value)\n",
    "    except Exception as e:\n",
    "        logging.error({e})\n",
    "        return 0\n",
    "\n",
    "list=[cleaned(value) for value in file_content]\n",
    "print(list)"
   ]
  },
  {
   "cell_type": "markdown",
   "metadata": {},
   "source": [
    "🔟 Validate Pincode Entries in Addresses\n",
    "\n",
    "addresses = [{\"City\": \"Mumbai\", \"Pincode\": 400001}, {\"City\": \"Delhi\", \"Pincode\": \"One One Zero Zero One\"}]"
   ]
  },
  {
   "cell_type": "code",
   "execution_count": 46,
   "metadata": {},
   "outputs": [
    {
     "name": "stdout",
     "output_type": "stream",
     "text": [
      "[{'City': 'Mumbai', 'Pincode': 400001}, {'City': 'Delhi', 'Pincode': 0}]\n"
     ]
    }
   ],
   "source": [
    "import pandas\n",
    "\n",
    "addresses = [{\"City\": \"Mumbai\", \"Pincode\": 400001}, {\"City\": \"Delhi\", \"Pincode\": \"One One Zero Zero One\"}]\n",
    "\n",
    "for value in addresses:\n",
    "\n",
    "    try:\n",
    "        value[\"City\"]=str(value[\"City\"])\n",
    "        value[\"Pincode\"]=int(value[\"Pincode\"])\n",
    "    except (ValueError,TypeError):\n",
    "        value[\"Pincode\"]=0\n",
    "\n",
    "print(addresses)"
   ]
  }
 ],
 "metadata": {
  "kernelspec": {
   "display_name": "base",
   "language": "python",
   "name": "python3"
  },
  "language_info": {
   "codemirror_mode": {
    "name": "ipython",
    "version": 3
   },
   "file_extension": ".py",
   "mimetype": "text/x-python",
   "name": "python",
   "nbconvert_exporter": "python",
   "pygments_lexer": "ipython3",
   "version": "3.12.7"
  }
 },
 "nbformat": 4,
 "nbformat_minor": 2
}
