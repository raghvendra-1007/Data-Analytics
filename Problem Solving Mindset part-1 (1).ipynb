{
 "cells": [
  {
   "cell_type": "markdown",
   "id": "4ffa9e78",
   "metadata": {},
   "source": [
    "# Problem Solving Mindset part-1"
   ]
  },
  {
   "cell_type": "markdown",
   "id": "81d0770a-afb7-4c51-ab7f-eb353a199ea8",
   "metadata": {},
   "source": [
    "**1. \"Hello, World!\" program likhkar run karein.**"
   ]
  },
  {
   "cell_type": "code",
   "execution_count": 12,
   "id": "3c7e5f3f-c1b0-41f9-8132-2953a73f1375",
   "metadata": {},
   "outputs": [
    {
     "name": "stdout",
     "output_type": "stream",
     "text": [
      "Hello,World!\n"
     ]
    }
   ],
   "source": [
    "print(\"Hello,World!\")"
   ]
  },
  {
   "cell_type": "markdown",
   "id": "2a969cb4-1465-4946-af99-2fde14a738fd",
   "metadata": {},
   "source": [
    "**2. Ek simple script likhein jisme aap comments ka use karein aur kuch print statements likhein.**"
   ]
  },
  {
   "cell_type": "code",
   "execution_count": 15,
   "id": "a0b0f91e-40a5-4cd9-8cc3-e8f9ac543b1e",
   "metadata": {},
   "outputs": [
    {
     "name": "stdout",
     "output_type": "stream",
     "text": [
      "hello friends i am raghvendra sharma\n"
     ]
    }
   ],
   "source": [
    "# we are going to print a statement here.\n",
    "print(\"hello friends i am raghvendra sharma\")"
   ]
  },
  {
   "cell_type": "markdown",
   "id": "a65ebe5e-f2a0-436d-86b2-df09d7b7a061",
   "metadata": {},
   "source": [
    "**3.  Ek variable `college_problem` banaye jisme aap apni mini project ka description store karein.Numbers ke saath arithmetic operations perform karein aur output dekhein.**"
   ]
  },
  {
   "cell_type": "code",
   "execution_count": 18,
   "id": "8de912ab-d89a-4f09-885e-b469b937bea9",
   "metadata": {},
   "outputs": [
    {
     "name": "stdout",
     "output_type": "stream",
     "text": [
      "in this project we are going to share all the problems we are facing in our college\n",
      "12\n",
      "2\n",
      "35\n",
      "1.4\n",
      "1\n",
      "2\n"
     ]
    }
   ],
   "source": [
    "college_problem = \"in this project we are going to share all the problems we are facing in our college\"\n",
    "print(college_problem)\n",
    "a=7\n",
    "b=5\n",
    "print(a+b)\n",
    "print(a-b)\n",
    "print(a*b)\n",
    "print(a/b)\n",
    "print(a//b)\n",
    "print(a%b)"
   ]
  },
  {
   "cell_type": "markdown",
   "id": "f15630e4-d428-4a51-9be9-6ed3a1cb949f",
   "metadata": {},
   "source": [
    "**4. Ek string variable create karein jo user input se college education ke problems ko capture kare.**\n",
    "   **String methods jaise `.upper()`, `.lower()`, `.split()` ka use karein.**"
   ]
  },
  {
   "cell_type": "code",
   "execution_count": 23,
   "id": "48b4f376-1240-4cdd-8c6f-6cfd31ef5948",
   "metadata": {},
   "outputs": [
    {
     "name": "stdout",
     "output_type": "stream",
     "text": [
      "enter the problem of college education quality education\n"
     ]
    },
    {
     "name": "stdout",
     "output_type": "stream",
     "text": [
      "quality education\n",
      "QUALITY EDUCATION\n",
      "quality education\n",
      "['quality', 'education']\n"
     ]
    }
   ],
   "source": [
    "problems=str(input(\"enter the problem of college education\"))\n",
    "print(problems)\n",
    "print(problems.upper())\n",
    "print(problems.lower())\n",
    "print(problems.split())"
   ]
  },
  {
   "cell_type": "markdown",
   "id": "240e860e-34e3-4436-9105-631488a24842",
   "metadata": {},
   "source": [
    "**5. Ek list banayein jisme alag-alag learning topics store hon (e.g., `\"Variables\"`, `\"Data Types\"`, `\"Control Flow\"`, etc.). \n",
    "Tuple aur dictionary create karein jo mini project ke elements ko represent karein (jaise, feedback: `{ \"topic\": \"Variables\", \"status\": \"Not Started\" }`).**"
   ]
  },
  {
   "cell_type": "code",
   "execution_count": 26,
   "id": "639af0fa-38ba-40c0-bdfa-e444af67ba31",
   "metadata": {},
   "outputs": [
    {
     "name": "stdout",
     "output_type": "stream",
     "text": [
      "['variables', 'data types', 'control flow']\n",
      "<class 'list'>\n",
      "('python basics', 'stats', 'power bi', 'mysql')\n",
      "<class 'tuple'>\n",
      "{'topic': 'variables', 'status': 'not started', 'duration': '2 hours'}\n",
      "<class 'dict'>\n"
     ]
    }
   ],
   "source": [
    "learning_topics=[\"variables\",\"data types\",\"control flow\"]\n",
    "print(learning_topics)\n",
    "print(type(learning_topics))\n",
    "mini_projects=(\"python basics\",\"stats\",\"power bi\",\"mysql\")\n",
    "print(mini_projects)\n",
    "print(type(mini_projects))\n",
    "feedback={\"topic\":\"variables\",\"status\":\"not started\",\"duration\":\"2 hours\"}\n",
    "print(feedback)\n",
    "print(type(feedback))"
   ]
  },
  {
   "cell_type": "markdown",
   "id": "33dfd344-321e-41aa-9c16-6790e2fa9108",
   "metadata": {},
   "source": [
    "**6. - Arithmetic operations perform karein.\n",
    " Comparison aur logical operators ka use karke conditions check karein (e.g., agar student score > 50 to \"Pass\" print karein).**"
   ]
  },
  {
   "cell_type": "code",
   "execution_count": 31,
   "id": "7a289957-3f2e-4328-9274-f9fd8face64c",
   "metadata": {},
   "outputs": [
    {
     "name": "stdout",
     "output_type": "stream",
     "text": [
      "12\n",
      "2\n",
      "35\n",
      "1.4\n",
      "1\n",
      "2\n"
     ]
    },
    {
     "name": "stdout",
     "output_type": "stream",
     "text": [
      "enter the marks 55\n",
      "enter the marks 66\n",
      "enter the marks 37\n",
      "enter the marks 41\n",
      "enter the marks 52\n"
     ]
    },
    {
     "name": "stdout",
     "output_type": "stream",
     "text": [
      "you are passed with 2nd division\n"
     ]
    }
   ],
   "source": [
    "a=7\n",
    "b=5\n",
    "print(a+b)\n",
    "print(a-b)\n",
    "print(a*b)\n",
    "print(a/b)\n",
    "print(a//b)\n",
    "print(a%b)\n",
    "maths=int(input(\"enter the marks\"))\n",
    "science=int(input(\"enter the marks\"))\n",
    "social_science=int(input(\"enter the marks\"))\n",
    "english=int(input(\"enter the marks\"))\n",
    "hindi=int(input(\"enter the marks\"))\n",
    "sum=maths+science+social_science+english+hindi\n",
    "per=(sum/500)*100\n",
    "if per>=60:\n",
    "    print(\"you are passed with 1st division\")\n",
    "elif per>=49 and per<60:\n",
    "    print(\"you are passed with 2nd division\")\n",
    "elif per>=36 and per<49:\n",
    "    print(\"you are passed with 3rd division\")\n",
    "else:\n",
    "    print(\"you are failed\")"
   ]
  },
  {
   "cell_type": "markdown",
   "id": "c5080242-ab2d-455b-b4ca-581db8c6be20",
   "metadata": {},
   "source": [
    "**7. Ek program likhe jisme student ke performance ke basis par different messages display ho (e.g., “Needs Improvement”, “Good”, “Excellent”).**"
   ]
  },
  {
   "cell_type": "code",
   "execution_count": null,
   "id": "d6ceba6b-bf8d-46bc-870c-91ce621005f9",
   "metadata": {},
   "outputs": [
    {
     "name": "stdout",
     "output_type": "stream",
     "text": [
      "enter the marks 85\n",
      "enter the marks 62\n"
     ]
    }
   ],
   "source": [
    "maths=int(input(\"enter the marks\"))\n",
    "science=int(input(\"enter the marks\"))\n",
    "social_science=int(input(\"enter the marks\"))\n",
    "english=int(input(\"enter the marks\"))\n",
    "hindi=int(input(\"enter the marks\"))\n",
    "sum=maths+science+social_science+english+hindi\n",
    "per=(sum/500)*100\n",
    "if per>=60:\n",
    "    print(\"excellent\")\n",
    "elif per>=49 and per<60:\n",
    "    print(\"good\")\n",
    "elif per>=36 and per<49:\n",
    "    print(\"needs improvement\")\n",
    "else:\n",
    "    print(\"poor\")"
   ]
  },
  {
   "cell_type": "markdown",
   "id": "edb23208-6541-416b-b00b-07d6f694db71",
   "metadata": {},
   "source": [
    "**8. Learning topics ki list par for loop chalayein aur har topic ko print karein.\n",
    "Mini project ke liye topics ke iteration ko implement karein.**"
   ]
  },
  {
   "cell_type": "code",
   "execution_count": 10,
   "id": "65dd7eea-f0c6-478c-8570-245505c2b992",
   "metadata": {},
   "outputs": [
    {
     "name": "stdout",
     "output_type": "stream",
     "text": [
      "variables\n",
      "data types\n",
      "control flow\n",
      "mini_project\n",
      "topic : variables\n",
      "status : not started\n",
      "duration : 2 hours\n"
     ]
    }
   ],
   "source": [
    "for i in learning_topics:\n",
    "    print(i)\n",
    "print(\"mini_project\")\n",
    "for key,value in feedback.items():\n",
    "    print(f\"{key} : {value}\")"
   ]
  },
  {
   "cell_type": "markdown",
   "id": "b24bf027-1194-45ec-b78b-a5dfb0afe669",
   "metadata": {},
   "source": [
    "**9. Ek counter variable ka use karke while loop likhe jo user input lene tak chalta rahe.\n",
    "Aap isse mini project mein ek “menu loop” ke liye use kar sakte hain.**"
   ]
  },
  {
   "cell_type": "code",
   "execution_count": 78,
   "id": "582beb66-5103-4004-9bbb-bcf5b3c992b5",
   "metadata": {},
   "outputs": [
    {
     "name": "stdout",
     "output_type": "stream",
     "text": [
      "enter anything 5\n",
      "enter anything 6\n",
      "enter anything df\n",
      "enter anything jfiejf]\n",
      "enter anything jfoiejf\n",
      "enter anything fmjfj\n",
      "enter anything exit\n"
     ]
    },
    {
     "name": "stdout",
     "output_type": "stream",
     "text": [
      "time to leave\n"
     ]
    }
   ],
   "source": [
    "counter=0\n",
    "while True:\n",
    "    a=input(\"enter anything\")\n",
    "    if a.lower()==\"exit\":\n",
    "        print(\"time to leave\")\n",
    "        break\n",
    "counter+=1"
   ]
  },
  {
   "cell_type": "markdown",
   "id": "36470248-f37a-4fe3-b176-149febf366c8",
   "metadata": {},
   "source": [
    "**10. Ek simple function banayein jo greeting print kare.\n",
    "Mini project mein har repetitive code ke liye function ka use karein.**"
   ]
  },
  {
   "cell_type": "code",
   "execution_count": 64,
   "id": "f49322e0-4d6a-4786-8bf6-db7df6b4edb7",
   "metadata": {},
   "outputs": [
    {
     "name": "stdout",
     "output_type": "stream",
     "text": [
      "hello guys\n",
      "hello guys\n",
      "hello guys\n"
     ]
    }
   ],
   "source": [
    "def greet():\n",
    "    for i in range(3):\n",
    "        print(\"hello guys\")\n",
    "\n",
    "greet()"
   ]
  }
 ],
 "metadata": {
  "kernelspec": {
   "display_name": "Python 3 (ipykernel)",
   "language": "python",
   "name": "python3"
  },
  "language_info": {
   "codemirror_mode": {
    "name": "ipython",
    "version": 3
   },
   "file_extension": ".py",
   "mimetype": "text/x-python",
   "name": "python",
   "nbconvert_exporter": "python",
   "pygments_lexer": "ipython3",
   "version": "3.12.7"
  }
 },
 "nbformat": 4,
 "nbformat_minor": 5
}
