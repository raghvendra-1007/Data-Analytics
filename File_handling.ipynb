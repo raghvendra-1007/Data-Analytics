{
 "cells": [
  {
   "cell_type": "markdown",
   "metadata": {},
   "source": [
    "1. Read a Text file."
   ]
  },
  {
   "cell_type": "code",
   "execution_count": 8,
   "metadata": {},
   "outputs": [
    {
     "name": "stdout",
     "output_type": "stream",
     "text": [
      "['Excellent product! The quality is top-notch, and the delivery was super fast.', 'Not happy with the battery life. It drains too quickly, even on standby.', 'Great value for money. Ive been using it for a week, and it works perfectly.', 'The customer service was not helpful. I had an issue, and they took too long to respond.', 'Loved the design and performance. Feels premium and well-built.', 'The product arrived with a minor scratch. Not a big deal, but still disappointing.', 'Very satisfied! Works as expected and even better than described. Waste of money.', 'Stopped working after just two days. Highly recommended! I bought it for my brother, and he loves it.', 'Delivery was delayed by five days. The product is good, but the experience wasnt great.', 'Sound quality is amazing! Best Ive experienced in this price range. Overheats after prolonged usage.', 'Not ideal for heavy tasks. Packaging was impressive, and the setup process was hassle-free.', 'The screen resolution is not as sharp as expected. Looks a bit outdated.', 'Best purchase Ive made this year! Would buy again without hesitation.']\n"
     ]
    }
   ],
   "source": [
    "with open(\"customer_reviews.txt\",\"r\", encoding=\"utf-8\")as file:\n",
    "    reviews=file.readlines()\n",
    "    \n",
    "    reviews=[review.strip() for review in reviews]\n",
    "    print(reviews)"
   ]
  },
  {
   "cell_type": "markdown",
   "metadata": {},
   "source": [
    "2. Read a CSV (sales data) file."
   ]
  },
  {
   "cell_type": "code",
   "execution_count": 5,
   "metadata": {},
   "outputs": [
    {
     "name": "stdout",
     "output_type": "stream",
     "text": [
      "header - ['date', 'sales']\n",
      "sales data - [['01-01-2023', '100'], ['02-01-2023', '200'], ['03-01-2023', '200'], ['04-01-2023', '150'], ['05-01-2023', '300'], ['06-01-2023', '175']]\n"
     ]
    }
   ],
   "source": [
    "import csv\n",
    "\n",
    "with open(\"sales_data.csv\", \"r\", encoding=\"utf-8\") as file:\n",
    "    read=csv.reader(file)\n",
    "    header=next(read)\n",
    "    sales_data=[line for line in read]\n",
    "\n",
    "print(f\"header - {header}\")\n",
    "print(f\"sales data - {sales_data}\")"
   ]
  },
  {
   "cell_type": "markdown",
   "metadata": {},
   "source": [
    "3. Read a CSV (retail store) file."
   ]
  },
  {
   "cell_type": "code",
   "execution_count": 6,
   "metadata": {},
   "outputs": [
    {
     "name": "stdout",
     "output_type": "stream",
     "text": [
      "header - ['Product', 'Price', 'Category']\n",
      "retail store - [['Laptop', '800.0', 'Electronics'], ['Shirt', '25.0', 'Clothing'], ['Laptop', '800.0', 'Electronics'], ['', '50.0', 'Clothing'], ['Phone', '', 'Electronics']]\n"
     ]
    }
   ],
   "source": [
    "import csv\n",
    "\n",
    "with open(\"retail_store.csv\",\"r\", encoding=\"utf-8\") as file:\n",
    "    read = csv.reader(file)\n",
    "    header = next(read)\n",
    "    retail_store = [line for line in read]\n",
    "\n",
    "print(f\"header - {header}\")\n",
    "print(f\"retail store - {retail_store}\")"
   ]
  },
  {
   "cell_type": "markdown",
   "metadata": {},
   "source": [
    "4. Write a CSV (retail store) file."
   ]
  },
  {
   "cell_type": "code",
   "execution_count": 7,
   "metadata": {},
   "outputs": [
    {
     "name": "stdout",
     "output_type": "stream",
     "text": [
      "[['Laptop', '800.0', 'Electronics'], ['Shirt', '25.0', 'Clothing'], ['Laptop', '800.0', 'Electronics'], ['', '50.0', 'Clothing'], ['Phone', '', 'Electronics']]\n"
     ]
    }
   ],
   "source": [
    "latest_data=[\n",
    "    [\"Product\",\"Price\",\"Category\"],\n",
    "    [\"Laptop\",\"400\",\"Electronics\"],\n",
    "    [\"Milton\",\"\",\"Cutlery\"]\n",
    "]\n",
    "\n",
    "import csv\n",
    "\n",
    "with open(\"retail_store.csv\",\"w\",newline=\"\",encoding=\"utf-8\") as file:\n",
    "    write=csv.writer(file)\n",
    "    write.writerows(latest_data)\n",
    "    \n",
    "    print(retail_store)\n",
    "\n"
   ]
  }
 ],
 "metadata": {
  "kernelspec": {
   "display_name": "base",
   "language": "python",
   "name": "python3"
  },
  "language_info": {
   "codemirror_mode": {
    "name": "ipython",
    "version": 3
   },
   "file_extension": ".py",
   "mimetype": "text/x-python",
   "name": "python",
   "nbconvert_exporter": "python",
   "pygments_lexer": "ipython3",
   "version": "3.12.7"
  }
 },
 "nbformat": 4,
 "nbformat_minor": 2
}
