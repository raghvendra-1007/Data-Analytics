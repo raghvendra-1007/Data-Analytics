{
 "cells": [
  {
   "cell_type": "markdown",
   "id": "01a3f4ef",
   "metadata": {},
   "source": [
    "# VARIABLES AND DATA TYPES"
   ]
  },
  {
   "cell_type": "markdown",
   "id": "d0381835-8912-430d-87db-5629f76261cc",
   "metadata": {},
   "source": [
    "BASIC"
   ]
  },
  {
   "cell_type": "markdown",
   "id": "3aeb1d59-9b7a-4164-87c0-b606cff4a315",
   "metadata": {},
   "source": [
    "1. Declare a variable x and assign it the value 10. Print its value."
   ]
  },
  {
   "cell_type": "code",
   "execution_count": 2,
   "id": "b825e1fd-6de2-47cf-a363-648bda9339ee",
   "metadata": {},
   "outputs": [
    {
     "name": "stdout",
     "output_type": "stream",
     "text": [
      "10\n"
     ]
    }
   ],
   "source": [
    "x=10\n",
    "print(x)"
   ]
  },
  {
   "cell_type": "markdown",
   "id": "54ed1f87-c773-4723-86b9-202bc78edeb9",
   "metadata": {},
   "source": [
    "2. Store your name in a variable and print it.\n"
   ]
  },
  {
   "cell_type": "code",
   "execution_count": 3,
   "id": "e8e2640d-0f32-42f2-b1c6-f8523b26ffa4",
   "metadata": {},
   "outputs": [
    {
     "name": "stdout",
     "output_type": "stream",
     "text": [
      "raghvendra sharma\n"
     ]
    }
   ],
   "source": [
    "a=\"raghvendra sharma\"\n",
    "print(a)"
   ]
  },
  {
   "cell_type": "markdown",
   "id": "1d1f04ac-8207-417f-b3ba-0b6bbbf2714f",
   "metadata": {},
   "source": [
    "3. Assign 3.14 to a variable pi and print its type.\n"
   ]
  },
  {
   "cell_type": "code",
   "execution_count": 4,
   "id": "464d8667-8983-4064-96f1-2690a4714409",
   "metadata": {},
   "outputs": [
    {
     "name": "stdout",
     "output_type": "stream",
     "text": [
      "<class 'float'>\n"
     ]
    }
   ],
   "source": [
    "pi=3.14\n",
    "print(type(pi))"
   ]
  },
  {
   "cell_type": "markdown",
   "id": "54a31fd7-6c0b-44d8-844b-502cd36aca13",
   "metadata": {},
   "source": [
    "4. Convert an integer 10 into a string and print its type.\n"
   ]
  },
  {
   "cell_type": "code",
   "execution_count": 5,
   "id": "8f2b5a7e-b6a3-413f-849b-08f2eed291fd",
   "metadata": {},
   "outputs": [
    {
     "name": "stdout",
     "output_type": "stream",
     "text": [
      "<class 'int'>\n",
      "<class 'str'>\n"
     ]
    }
   ],
   "source": [
    "x=10\n",
    "print(type(x))\n",
    "x=str(x)\n",
    "print(type(x))"
   ]
  },
  {
   "cell_type": "markdown",
   "id": "b669463f-2f42-4cf5-8425-d21e65ce3bae",
   "metadata": {},
   "source": [
    "5. Get user input for a number and print its square.\n"
   ]
  },
  {
   "cell_type": "code",
   "execution_count": 6,
   "id": "7fdbd20e-ee00-4db7-b9be-0e875a535f70",
   "metadata": {},
   "outputs": [
    {
     "name": "stdout",
     "output_type": "stream",
     "text": [
      "25\n"
     ]
    }
   ],
   "source": [
    "x=int(input(\"enter a digit - \"))\n",
    "print(int(x**2))"
   ]
  },
  {
   "cell_type": "markdown",
   "id": "1e028105-df63-43f5-a94b-315c9b01c9f3",
   "metadata": {},
   "source": [
    "6. Swap two variables using a third variable.\n"
   ]
  },
  {
   "cell_type": "code",
   "execution_count": 7,
   "id": "5a313992-23ea-4cd6-a021-27b186b553c3",
   "metadata": {},
   "outputs": [
    {
     "name": "stdout",
     "output_type": "stream",
     "text": [
      "a= 10\n",
      "b= 5\n"
     ]
    }
   ],
   "source": [
    "a=5\n",
    "b=10\n",
    "c=a\n",
    "a=b\n",
    "b=c\n",
    "print(\"a=\",a)\n",
    "print(\"b=\",b)"
   ]
  },
  {
   "cell_type": "markdown",
   "id": "ae8ed811-689b-4090-aa78-18ab2bc2e1de",
   "metadata": {},
   "source": [
    "7. Swap two variables without using a third variable."
   ]
  },
  {
   "cell_type": "code",
   "execution_count": 8,
   "id": "e7d078b9-cebf-4dc6-948d-efc2ce6cda54",
   "metadata": {},
   "outputs": [
    {
     "name": "stdout",
     "output_type": "stream",
     "text": [
      "a= 10\n",
      "b= 5\n"
     ]
    }
   ],
   "source": [
    "a=5\n",
    "b=10\n",
    "a,b=b,a\n",
    "print(\"a=\",a)\n",
    "print(\"b=\",b)"
   ]
  },
  {
   "cell_type": "markdown",
   "id": "43589936-15e6-43a8-948b-8d985a69135f",
   "metadata": {},
   "source": [
    "8. Create a variable with a boolean value and print its type."
   ]
  },
  {
   "cell_type": "code",
   "execution_count": 9,
   "id": "ac0b97d3-e2c3-4d66-93f4-1df48295944b",
   "metadata": {},
   "outputs": [
    {
     "name": "stdout",
     "output_type": "stream",
     "text": [
      "<class 'bool'>\n"
     ]
    }
   ],
   "source": [
    "a=True\n",
    "print(type(a))"
   ]
  },
  {
   "cell_type": "markdown",
   "id": "e748485d-1b11-4793-866e-4a0a5fe0651e",
   "metadata": {},
   "source": [
    "9. Assign multiple values to multiple variables in one line.\n"
   ]
  },
  {
   "cell_type": "code",
   "execution_count": 10,
   "id": "bde74cb3-ec85-48db-b690-d83ec0b99030",
   "metadata": {},
   "outputs": [
    {
     "name": "stdout",
     "output_type": "stream",
     "text": [
      "2\n",
      "4\n",
      "6\n"
     ]
    }
   ],
   "source": [
    "x,y,z=2,4,6\n",
    "print(x)\n",
    "print(y)\n",
    "print(z)"
   ]
  },
  {
   "cell_type": "markdown",
   "id": "dab3e639-a1c5-460a-a3f7-5b2e295eb898",
   "metadata": {},
   "source": [
    "10. Find the length of the string \"Python Programming\" using a variable."
   ]
  },
  {
   "cell_type": "code",
   "execution_count": 11,
   "id": "6b20484e-7fde-43d0-ab33-ebf106f24541",
   "metadata": {},
   "outputs": [
    {
     "name": "stdout",
     "output_type": "stream",
     "text": [
      "18\n"
     ]
    }
   ],
   "source": [
    "a=\"Python Programming\"\n",
    "print(len(a))"
   ]
  },
  {
   "cell_type": "markdown",
   "id": "509f431c-bd46-4ab8-80ae-03a8c71d15d4",
   "metadata": {},
   "source": [
    "INTERMEDIATE"
   ]
  },
  {
   "cell_type": "markdown",
   "id": "35b13b3b-ab51-4b1c-8f32-8a9c4c7f1bed",
   "metadata": {},
   "source": [
    "11. Reverse a string stored in a variable without using a loop.\n"
   ]
  },
  {
   "cell_type": "code",
   "execution_count": 12,
   "id": "fc490806-c693-4d7c-9b6f-b1f7ddb0f06f",
   "metadata": {},
   "outputs": [
    {
     "name": "stdout",
     "output_type": "stream",
     "text": [
      "ardnevhgar\n"
     ]
    }
   ],
   "source": [
    "a=\"raghvendra\"\n",
    "b=a[::-1]\n",
    "print(b)"
   ]
  },
  {
   "cell_type": "markdown",
   "id": "d0f5c8ef-5279-4b16-ab43-ffa1f6bf8eeb",
   "metadata": {},
   "source": [
    "12. Extract the first 5 characters from the string \"Hello, World!\".\n"
   ]
  },
  {
   "cell_type": "code",
   "execution_count": 13,
   "id": "594ff70f-e568-4094-88c9-e2add5fdcb15",
   "metadata": {},
   "outputs": [
    {
     "name": "stdout",
     "output_type": "stream",
     "text": [
      "o\n"
     ]
    }
   ],
   "source": [
    "a=\"Hello,World!\"\n",
    "print(a[4])"
   ]
  },
  {
   "cell_type": "markdown",
   "id": "e0b7ed1d-542f-4cb5-8df0-bc6e1ca11628",
   "metadata": {},
   "source": [
    "13. Convert a float 12.34 to an integer and a string.\n"
   ]
  },
  {
   "cell_type": "code",
   "execution_count": 14,
   "id": "7f9ba031-8af5-4c85-9ee6-78cd06195634",
   "metadata": {},
   "outputs": [
    {
     "name": "stdout",
     "output_type": "stream",
     "text": [
      "<class 'float'>\n",
      "<class 'int'>\n",
      "<class 'str'>\n"
     ]
    }
   ],
   "source": [
    "a=12.34\n",
    "print(type(a))\n",
    "a=int(a)\n",
    "print(type(a))\n",
    "a=str(a)\n",
    "print(type(a))"
   ]
  },
  {
   "cell_type": "markdown",
   "id": "a158c11a-6a53-4f75-9e7a-f2671fee422c",
   "metadata": {},
   "source": [
    "14. Check if a variable contains an integer or not.\n"
   ]
  },
  {
   "cell_type": "code",
   "execution_count": 15,
   "id": "4c10c800-8a28-4aee-b22a-df0c8c9766ea",
   "metadata": {},
   "outputs": [
    {
     "name": "stdout",
     "output_type": "stream",
     "text": [
      "yes a contain integer type <class 'int'>\n",
      "false\n"
     ]
    }
   ],
   "source": [
    "a=5\n",
    "b=\"raj\"\n",
    "c=type(a)\n",
    "d=type(b)\n",
    "if type(a)==int:\n",
    "    print(f\"yes a contain integer type {c}\")\n",
    "else:print(\"false\")    \n",
    "if type(b)==int:\n",
    "    print(f\"yes b contain integer type {d}\")\n",
    "else:print(\"false\")"
   ]
  },
  {
   "cell_type": "markdown",
   "id": "01eeba19-70dd-4f92-801e-fdda052183b5",
   "metadata": {},
   "source": [
    "15. Concatenate two string variables and print the result.\n"
   ]
  },
  {
   "cell_type": "code",
   "execution_count": 16,
   "id": "844801c9-45d2-4de9-ae77-d5bf3998d979",
   "metadata": {},
   "outputs": [
    {
     "name": "stdout",
     "output_type": "stream",
     "text": [
      "raghvendra sharma\n"
     ]
    }
   ],
   "source": [
    "first_name=\"raghvendra\"\n",
    "last_name=\"sharma\"\n",
    "full_name=(first_name+\" \"+last_name)\n",
    "print(full_name)"
   ]
  },
  {
   "cell_type": "markdown",
   "id": "8ea77670-cf25-479b-99f0-d6295419aa17",
   "metadata": {},
   "source": [
    "16. Take user input as a string and convert it into a list.\n"
   ]
  },
  {
   "cell_type": "code",
   "execution_count": 17,
   "id": "1b1300cf-c2cb-46ba-9537-cf322110896f",
   "metadata": {},
   "outputs": [
    {
     "name": "stdout",
     "output_type": "stream",
     "text": [
      "gj\n",
      "gj\n"
     ]
    }
   ],
   "source": [
    "a=str(input(\"enter a string - \"))\n",
    "print(a)\n",
    "b=list(a)\n",
    "print(a)"
   ]
  },
  {
   "cell_type": "markdown",
   "id": "35a828c4-570d-4642-aa0c-77e1840b8670",
   "metadata": {},
   "source": [
    "17. Create a list, tuple, set, and dictionary with at least 3 elements each.\n"
   ]
  },
  {
   "cell_type": "code",
   "execution_count": 18,
   "id": "083d709a-35f8-4487-a67e-81c9154b259d",
   "metadata": {},
   "outputs": [
    {
     "name": "stdout",
     "output_type": "stream",
     "text": [
      "<class 'list'>\n",
      "<class 'tuple'>\n",
      "<class 'set'>\n",
      "<class 'dict'>\n"
     ]
    }
   ],
   "source": [
    "a=[5,8,9,7,\"raj\",6,5]\n",
    "b=(2,4,5,7,\"jai\",1)\n",
    "c={5,8,7,9,5,\"ani\"}\n",
    "d={\"name\":\"raghvendra\",\"age\":22,\"surname\":\"sharma\"}\n",
    "print(type(a))\n",
    "print(type(b))\n",
    "print(type(c))\n",
    "print(type(d))"
   ]
  },
  {
   "cell_type": "markdown",
   "id": "226e9ee9-0b97-4392-85ed-5a1466eb8360",
   "metadata": {},
   "source": [
    "18. Modify a list inside a tuple without changing the tuple itself.\n"
   ]
  },
  {
   "cell_type": "code",
   "execution_count": 19,
   "id": "cd45993b-bcd6-41f8-a105-ff83e69518d8",
   "metadata": {},
   "outputs": [
    {
     "name": "stdout",
     "output_type": "stream",
     "text": [
      "<class 'tuple'>\n",
      "(4, 'free', 8, 9, [4, 5, 8, 'home', 7, 9])\n"
     ]
    }
   ],
   "source": [
    "a=(4,\"free\",8,9,[4,5,8,\"home\",7])\n",
    "print(type(a))\n",
    "a[4].append(9)\n",
    "print(a)"
   ]
  },
  {
   "cell_type": "markdown",
   "id": "00b31663-da19-4e7d-91fa-d7d0a29406d7",
   "metadata": {},
   "source": [
    "19. Check if a key \"age\" exists in a dictionary.\n"
   ]
  },
  {
   "cell_type": "code",
   "execution_count": 20,
   "id": "9cb38ca4-dd10-4626-a5b8-fa43298e85a7",
   "metadata": {},
   "outputs": [
    {
     "name": "stdout",
     "output_type": "stream",
     "text": [
      "yes it exists\n"
     ]
    }
   ],
   "source": [
    "a={\"name\":\"raghvendra\",\"age\":22,\"surname\":\"sharma\"}\n",
    "if \"age\" in a:\n",
    "    print(\"yes it exists\")\n",
    "else:\n",
    "    print(\"no existance\")"
   ]
  },
  {
   "cell_type": "markdown",
   "id": "ed9d3d4d-693e-45db-bff9-5ad5f66c9979",
   "metadata": {},
   "source": [
    "20. Write a program to count the occurrences of each character in a string."
   ]
  },
  {
   "cell_type": "code",
   "execution_count": 21,
   "id": "17e9c50e-adc1-4eb8-9b9e-3144dee475cb",
   "metadata": {},
   "outputs": [],
   "source": [
    "a=\"raghvendra sharma\""
   ]
  },
  {
   "cell_type": "markdown",
   "id": "e6f77ea4-4b85-4306-a14b-7f9a1dec1f4c",
   "metadata": {},
   "source": [
    "ADVANCE"
   ]
  },
  {
   "cell_type": "markdown",
   "id": "bf34e6b4-e483-4b0d-a832-1f47b9f3a877",
   "metadata": {},
   "source": [
    "21. Create a complex number and print its real and imaginary parts.\n"
   ]
  },
  {
   "cell_type": "code",
   "execution_count": 22,
   "id": "525ed39a-5bbd-48ca-a0a2-14e1af61dbec",
   "metadata": {},
   "outputs": [
    {
     "name": "stdout",
     "output_type": "stream",
     "text": [
      "2.0\n",
      "3.0\n"
     ]
    }
   ],
   "source": [
    "a=2+3j\n",
    "print(a.real)\n",
    "print(a.imag)"
   ]
  },
  {
   "cell_type": "markdown",
   "id": "96d44d21-3690-4338-9ced-f3a667dc6411",
   "metadata": {},
   "source": [
    "22. Convert a list of numbers [1, 2, 3] into a tuple and a set.\n"
   ]
  },
  {
   "cell_type": "code",
   "execution_count": 23,
   "id": "afb54320-e8f2-4304-af20-0bd58ab66064",
   "metadata": {},
   "outputs": [
    {
     "name": "stdout",
     "output_type": "stream",
     "text": [
      "(1, 2, 3)\n",
      "{1, 2, 3}\n"
     ]
    }
   ],
   "source": [
    "a=[1,2,3]\n",
    "a=tuple(a)\n",
    "b=set(a)\n",
    "print(a)\n",
    "print(b)"
   ]
  },
  {
   "cell_type": "markdown",
   "id": "c7427a88-eff2-4be3-9f9f-4aae8c3fef8a",
   "metadata": {},
   "source": [
    "23. Write a program to check if two variables reference the same object in memory.\n",
    "\n"
   ]
  },
  {
   "cell_type": "code",
   "execution_count": 24,
   "id": "d67f33ef-e5b7-40ab-a88f-afdbccb907bd",
   "metadata": {},
   "outputs": [
    {
     "name": "stdout",
     "output_type": "stream",
     "text": [
      "True\n"
     ]
    }
   ],
   "source": [
    "a=[1,2,3]\n",
    "b=a\n",
    "print(a is b)"
   ]
  },
  {
   "cell_type": "markdown",
   "id": "ab05ffc3-2f3b-490f-a67e-de71b7b9756b",
   "metadata": {},
   "source": [
    "24. Create a dictionary where keys are numbers and values are their squares.\n"
   ]
  },
  {
   "cell_type": "code",
   "execution_count": 25,
   "id": "37d1d079-89cb-4a61-85ca-010a1b386367",
   "metadata": {},
   "outputs": [
    {
     "name": "stdout",
     "output_type": "stream",
     "text": [
      "{2: 4, 3: 9, 4: 16, 5: 25}\n"
     ]
    }
   ],
   "source": [
    "a={2:2**2,3:3**2,4:4**2,5:5**2}\n",
    "print(a)"
   ]
  },
  {
   "cell_type": "markdown",
   "id": "ec2ee600-d3eb-40ea-a6b4-1fe478fb70f8",
   "metadata": {},
   "source": [
    "25. Extract the keys from a dictionary and store them in a list.\n"
   ]
  },
  {
   "cell_type": "code",
   "execution_count": 26,
   "id": "7116f8e1-6b8f-409b-894d-d5f545848aea",
   "metadata": {},
   "outputs": [
    {
     "name": "stdout",
     "output_type": "stream",
     "text": [
      "['name', 'age', 'surname']\n"
     ]
    }
   ],
   "source": [
    "a={\"name\":\"raghvendra\",\"age\":22,\"surname\":\"sharma\"}\n",
    "b=list(a.keys())\n",
    "print(b)"
   ]
  },
  {
   "cell_type": "markdown",
   "id": "6ca15ea9-b514-4e4f-ab0b-45e1179608b1",
   "metadata": {},
   "source": [
    "26. Convert a string \"100\" to an integer, float, and boolean.\n"
   ]
  },
  {
   "cell_type": "code",
   "execution_count": 27,
   "id": "8ed6c48f-ebb8-4834-a460-ab3c50771dd5",
   "metadata": {},
   "outputs": [
    {
     "name": "stdout",
     "output_type": "stream",
     "text": [
      "<class 'int'>\n",
      "<class 'float'>\n",
      "<class 'bool'>\n"
     ]
    }
   ],
   "source": [
    "a=\"100\"\n",
    "a=int(a)\n",
    "b=float(a)\n",
    "c=bool(a)\n",
    "print(type(a))\n",
    "print(type(b))\n",
    "print(type(c))"
   ]
  },
  {
   "cell_type": "markdown",
   "id": "21e1ff13-b3cf-4a24-b19b-e0ca493654fd",
   "metadata": {},
   "source": [
    "27. Use type hinting to declare a function that returns the square of a number.\n"
   ]
  },
  {
   "cell_type": "code",
   "execution_count": 28,
   "id": "858fc54e-c610-471e-be8c-67028d28dba3",
   "metadata": {},
   "outputs": [
    {
     "data": {
      "text/plain": [
       "16"
      ]
     },
     "execution_count": 28,
     "metadata": {},
     "output_type": "execute_result"
    }
   ],
   "source": [
    "def square(number:int):\n",
    "    return(number**2)\n",
    "\n",
    "square(4)"
   ]
  },
  {
   "cell_type": "markdown",
   "id": "4bd7dd82-af63-44eb-beb0-bede4dbcc553",
   "metadata": {},
   "source": [
    "28. Demonstrate the difference between is and == using two variables.\n"
   ]
  },
  {
   "cell_type": "code",
   "execution_count": 29,
   "id": "553b1d3f-9e04-4771-8b9a-e1ba02858c1b",
   "metadata": {},
   "outputs": [
    {
     "name": "stdout",
     "output_type": "stream",
     "text": [
      "True\n",
      "False\n",
      "True\n"
     ]
    }
   ],
   "source": [
    "a=[2,6,4]\n",
    "b=[2,6,4]\n",
    "c=a\n",
    "print(a is c)\n",
    "print(a is b)\n",
    "print(a == b)"
   ]
  },
  {
   "cell_type": "markdown",
   "id": "2595f3bb-8bfd-41a2-9eb2-e9f8126e2e86",
   "metadata": {},
   "source": [
    "29. Write a program to demonstrate the mutability of a list and the immutability of a string.\n"
   ]
  },
  {
   "cell_type": "code",
   "execution_count": 30,
   "id": "fa8cbd0c-5b47-410b-8986-06de2aa39305",
   "metadata": {},
   "outputs": [
    {
     "name": "stdout",
     "output_type": "stream",
     "text": [
      "[2, 6, 4, 7]\n",
      "raj\n"
     ]
    }
   ],
   "source": [
    "list=[2,6,4]\n",
    "string=\"raj\"\n",
    "string.replace(\"j\",\"m\")\n",
    "list.append(7)\n",
    "print(list)\n",
    "print(string)"
   ]
  },
  {
   "cell_type": "markdown",
   "id": "31b584e0-20ab-4c12-bda3-9fe1f3599b93",
   "metadata": {},
   "source": [
    "30. Try to modify an element in a string and handle the error using a try-except block."
   ]
  },
  {
   "cell_type": "code",
   "execution_count": 31,
   "id": "3126bde4-1e99-4fc8-b2f9-8d0a9efd245d",
   "metadata": {},
   "outputs": [
    {
     "name": "stdout",
     "output_type": "stream",
     "text": [
      "'str' object does not support item assignment\n"
     ]
    }
   ],
   "source": [
    "a=\"raj\"\n",
    "try:\n",
    "    a[3]=\"m\"\n",
    "except Exception as error:\n",
    "    print(error)"
   ]
  }
 ],
 "metadata": {
  "kernelspec": {
   "display_name": "base",
   "language": "python",
   "name": "python3"
  },
  "language_info": {
   "codemirror_mode": {
    "name": "ipython",
    "version": 3
   },
   "file_extension": ".py",
   "mimetype": "text/x-python",
   "name": "python",
   "nbconvert_exporter": "python",
   "pygments_lexer": "ipython3",
   "version": "3.12.7"
  }
 },
 "nbformat": 4,
 "nbformat_minor": 5
}
