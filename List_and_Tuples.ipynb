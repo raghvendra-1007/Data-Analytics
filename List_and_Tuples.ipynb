{
 "cells": [
  {
   "cell_type": "markdown",
   "id": "426fdfc1",
   "metadata": {},
   "source": [
    "# LIST AND TUPLES"
   ]
  },
  {
   "cell_type": "markdown",
   "id": "5f1512fe-4ff3-4b13-819d-16bb95c5f1b5",
   "metadata": {},
   "source": [
    "**Question 1:**\n",
    "You have a dataset with some invalid entries (None) and repeated product names. Write a Python program that:\n",
    "\n",
    "Removes missing values (None).\n",
    "\n",
    "Eliminates duplicates while keeping the order intact.\n",
    "\n",
    "Prints both the original and cleaned dataset.\n",
    "\n",
    "raw_products = [\"TV\", \"Refrigerator\", None, \"Washing Machine\", \"Refrigerator\", \"Microwave\", None, \"TV\"]"
   ]
  },
  {
   "cell_type": "code",
   "execution_count": 30,
   "id": "9bddf343-faea-4994-9233-72efcff0a12a",
   "metadata": {},
   "outputs": [
    {
     "name": "stdout",
     "output_type": "stream",
     "text": [
      "original_data = ['TV', 'Refrigerator', None, 'Washing Machine', 'Refrigerator', 'Microwave', None, 'TV']\n",
      "cleaned_data = ['TV', 'Refrigerator', 'Washing Machine', 'Refrigerator', 'Microwave', 'TV']\n"
     ]
    }
   ],
   "source": [
    "raw_products = [\"TV\", \"Refrigerator\", None, \"Washing Machine\", \"Refrigerator\", \"Microwave\", None, \"TV\"]\n",
    "original_data=raw_products\n",
    "print(f\"original_data = {original_data}\")\n",
    "cleaned_data=[product for product in raw_products if product is not None]\n",
    "print(f\"cleaned_data = {cleaned_data}\")"
   ]
  },
  {
   "cell_type": "markdown",
   "id": "d559e132-57cd-4a93-bea7-3f94e27546a3",
   "metadata": {},
   "source": [
    "**Question 2:**\n",
    "You are given a list of daily website visitors for a week. Write a Python program that:\n",
    "\n",
    "Calculates the total number of visitors.\n",
    "\n",
    "Finds the average visitors per day (rounded to 2 decimal places).\n",
    "\n",
    "Sorts the visitor counts in descending order.\n",
    "\n",
    "daily_visitors = [1000, 1500, 1200, 1800, 1400, 2000, 1600]"
   ]
  },
  {
   "cell_type": "code",
   "execution_count": 31,
   "id": "b77d7b09-0712-4b30-b2bc-3955501c4dbc",
   "metadata": {},
   "outputs": [
    {
     "name": "stdout",
     "output_type": "stream",
     "text": [
      "10500\n",
      "1500.00\n",
      "[2000, 1800, 1600, 1500, 1400, 1200, 1000]\n"
     ]
    }
   ],
   "source": [
    "daily_visitors = [1000, 1500, 1200, 1800, 1400, 2000, 1600]\n",
    "total_number_of_visitors=0\n",
    "no_of_days=len(daily_visitors)\n",
    "for visit in daily_visitors:\n",
    "    total_number_of_visitors+=visit\n",
    "print(total_number_of_visitors)\n",
    "average_visitors=(total_number_of_visitors/no_of_days)\n",
    "print(f\"{average_visitors:.2f}\")\n",
    "sorted_visitors=sorted(daily_visitors,reverse=True)\n",
    "print(sorted_visitors)"
   ]
  },
  {
   "cell_type": "markdown",
   "id": "98a9846c-99e5-4702-be86-782d497218e5",
   "metadata": {},
   "source": [
    "**Question 3:**\n",
    "A company is analyzing employee salaries. Write a Python program that:\n",
    "\n",
    "Extracts only the \"Employee Age\" and \"Salary\" fields.\n",
    "\n",
    "Normalizes salaries using Min-Max Scaling.\n",
    "\n",
    "Prints the extracted ages and normalized salary values\n",
    "\n",
    "employee_data = [\n",
    "    [1, \"John\", 28, 60000],\n",
    "    [2, \"Emily\", 35, 75000],\n",
    "    [3, \"Michael\", 40, 50000],\n",
    "    [4, \"Sarah\", 30, 65000]\n",
    "]\n"
   ]
  },
  {
   "cell_type": "code",
   "execution_count": 32,
   "id": "4c022888-0b1e-4be4-8d4b-18958c6479d2",
   "metadata": {},
   "outputs": [
    {
     "name": "stdout",
     "output_type": "stream",
     "text": [
      "extracted_age - [28, 35, 40, 30]\n",
      "normalized_salary - [0.4, 1.0, 0.0, 0.6]\n"
     ]
    }
   ],
   "source": [
    "employee_data = [\n",
    "    [1, \"John\", 28, 60000],\n",
    "    [2, \"Emily\", 35, 75000],\n",
    "    [3, \"Michael\", 40, 50000],\n",
    "    [4, \"Sarah\", 30, 65000]\n",
    "]\n",
    "\n",
    "age=[data[2] for data in employee_data]\n",
    "print(f\"extracted_age - {age}\")\n",
    "salaries=[salary[3] for salary in employee_data]\n",
    "max_salary=max(salaries)\n",
    "min_salary=min(salaries)\n",
    "normalized_salary=[(salary-min_salary)/(max_salary-min_salary) for salary in salaries]\n",
    "print(f\"normalized_salary - {normalized_salary}\")"
   ]
  },
  {
   "cell_type": "markdown",
   "id": "7317386b-1cd9-4d08-9636-e442dd54950c",
   "metadata": {},
   "source": [
    "**Question 4:**\n",
    "Define a tuple-based schema for an online store's order records.\n",
    "\n",
    "Store sample orders as a list of tuples and display both the schema and sample data.\n",
    "\n",
    "order_schema = (\"Order_ID\", \"Customer_Name\", \"Product\", \"Quantity\", \"Total_Amount\")\n",
    "\n",
    "order_data = [\n",
    "    (501, \"Alice\", \"Laptop\", 1, 75000),\n",
    "    (502, \"Bob\", \"Phone\", 2, 60000),\n",
    "    (503, \"Charlie\", \"Headphones\", 1, 5000)\n",
    "]\n"
   ]
  },
  {
   "cell_type": "code",
   "execution_count": 33,
   "id": "d8e9f158-b9ae-44d5-abfc-c38912bd0606",
   "metadata": {},
   "outputs": [
    {
     "name": "stdout",
     "output_type": "stream",
     "text": [
      "order_schema - ('Order_ID', 'Customer_Name', 'Product', 'Quantity', 'Total_Amount')\n",
      "sample_orders - [(501, 'Alice', 'Laptop', 1, 75000), (502, 'Bob', 'Phone', 2, 60000), (503, 'Charlie', 'Headphones', 1, 5000)]\n"
     ]
    }
   ],
   "source": [
    "order_schema = (\"Order_ID\", \"Customer_Name\", \"Product\", \"Quantity\", \"Total_Amount\")\n",
    "\n",
    "order_data = [\n",
    "    (501, \"Alice\", \"Laptop\", 1, 75000),\n",
    "    (502, \"Bob\", \"Phone\", 2, 60000),\n",
    "    (503, \"Charlie\", \"Headphones\", 1, 5000)\n",
    "]\n",
    "\n",
    "print(f\"order_schema - {order_schema}\")\n",
    "print(f\"sample_orders - {order_data}\")"
   ]
  },
  {
   "cell_type": "markdown",
   "id": "59677888-9449-456f-baae-414b90a3aed6",
   "metadata": {},
   "source": [
    "**Question 5:**\n",
    "You have recorded the temperature trends over 7 days. Write a Python program that:\n",
    "\n",
    "Plots a line graph showing temperature changes.\n",
    "    \n",
    "Uses circle markers (o) for data points.\n",
    "    \n",
    "Adds labels, a title, and a grid for readability.\n",
    "\n",
    "days = [\"Mon\", \"Tue\", \"Wed\", \"Thu\", \"Fri\", \"Sat\", \"Sun\"]\n",
    "\n",
    "temperatures = [22, 24, 21, 25, 23, 26, 27]\n"
   ]
  },
  {
   "cell_type": "code",
   "execution_count": 34,
   "id": "f319e3eb-defa-410c-805a-5553b90aaeb3",
   "metadata": {},
   "outputs": [
    {
     "data": {
      "image/png": "[encoded data removed]",
      "text/plain": [
       "<Figure size 640x480 with 1 Axes>"
      ]
     },
     "metadata": {},
     "output_type": "display_data"
    }
   ],
   "source": [
    "days = [\"Mon\", \"Tue\", \"Wed\", \"Thu\", \"Fri\", \"Sat\", \"Sun\"]\n",
    "temperatures = [22, 24, 21, 25, 23, 26, 27]\n",
    "\n",
    "import matplotlib.pyplot as plt\n",
    "plt.bar(days,temperatures,color=\"red\")\n",
    "plt.xlabel(\"weekly_days\")\n",
    "plt.ylabel(\"weekly_temperature\")\n",
    "plt.title(\"temperature_trends\")\n",
    "plt.plot()\n",
    "\n",
    "plt.plot(days,temperatures,marker=\"o\",linestyle=\"-\",color=\"black\")\n",
    "plt.xlabel(\"weekly_days\")\n",
    "plt.ylabel(\"weekly_temperature\")\n",
    "plt.title(\"temperature_trends\")\n",
    "plt.grid=True\n",
    "plt.show()"
   ]
  },
  {
   "cell_type": "markdown",
   "id": "1143d872-5612-46b0-80e4-722f16a996b4",
   "metadata": {},
   "source": [
    "**Question 6:**\n",
    "Write a Python program that calculates:\n",
    "\n",
    "Total sales revenue from a list of product sales.\n",
    "\n",
    "Average revenue per product (rounded to 2 decimal places).\n",
    "\n",
    "Prints the total and average sales revenue.\n",
    "\n",
    "product_sales = [45000, 55000, 70000, 62000, 58000]\n"
   ]
  },
  {
   "cell_type": "code",
   "execution_count": 35,
   "id": "dc4f188e-ba00-448c-90a1-214e165b99f2",
   "metadata": {},
   "outputs": [
    {
     "name": "stdout",
     "output_type": "stream",
     "text": [
      "total_sales - 290000\n",
      "average - 58000.00\n"
     ]
    }
   ],
   "source": [
    "product_sales = [45000, 55000, 70000, 62000, 58000]\n",
    "length=len(product_sales)\n",
    "total_sales=0\n",
    "for sale in product_sales:\n",
    "    total_sales+=sale\n",
    "print(f\"total_sales - {total_sales}\")\n",
    "average=(total_sales/length)\n",
    "print(f\"average - {average:.2f}\")"
   ]
  },
  {
   "cell_type": "markdown",
   "id": "3fb2bd83-be82-4b87-b4f0-bb0a57903167",
   "metadata": {},
   "source": [
    "**Question 7:**\n",
    "You have a list of customer feedback scores. Write a Python program that:\n",
    "\n",
    "Sorts scores in descending order.\n",
    "    \n",
    "Finds the highest and lowest scores.\n",
    "\n",
    "Prints the sorted list, highest, and lowest scores.\n",
    "\n",
    "feedback_scores = [4.5, 3.8, 4.9, 2.7, 4.1, 3.5]"
   ]
  },
  {
   "cell_type": "code",
   "execution_count": 28,
   "id": "6525a89e-442c-4643-be63-b4db75ee5af7",
   "metadata": {},
   "outputs": [
    {
     "name": "stdout",
     "output_type": "stream",
     "text": [
      "sorted list = [4.9, 4.5, 4.1, 3.8, 3.5, 2.7]\n",
      "highest score - 4.9\n",
      "lowest score - 2.7\n"
     ]
    }
   ],
   "source": [
    "feedback_scores = [4.5, 3.8, 4.9, 2.7, 4.1, 3.5]\n",
    "sorted_list=sorted(feedback_scores,reverse=True)\n",
    "print(f\"sorted list = {sorted_list}\")\n",
    "highest=max(sorted_list)\n",
    "lowest=min(sorted_list)\n",
    "print(f\"highest score - {highest}\")\n",
    "print(f\"lowest score - {lowest}\")"
   ]
  },
  {
   "cell_type": "markdown",
   "id": "0b088b09-068a-4311-af9c-2e1e5942b176",
   "metadata": {},
   "source": [
    "**Question 8:**\n",
    "Write a program that processes a list of student grades and:\n",
    "\n",
    "Calculates the average grade.\n",
    "    \n",
    "Identifies students who scored above the average.\n",
    "\n",
    "students = [\n",
    "    (\"Alice\", 85),\n",
    "    (\"Bob\", 78),\n",
    "    (\"Charlie\", 92),\n",
    "    (\"David\", 74),\n",
    "    (\"Eve\", 88)\n",
    "]"
   ]
  },
  {
   "cell_type": "code",
   "execution_count": 29,
   "id": "b6bdc2b6-3dc1-4baa-a905-35a56dc4464f",
   "metadata": {},
   "outputs": [
    {
     "name": "stdout",
     "output_type": "stream",
     "text": [
      "average grade - 83.40\n"
     ]
    },
    {
     "ename": "TypeError",
     "evalue": "'>=' not supported between instances of 'list' and 'float'",
     "output_type": "error",
     "traceback": [
      "\u001b[1;31m---------------------------------------------------------------------------\u001b[0m",
      "\u001b[1;31mTypeError\u001b[0m                                 Traceback (most recent call last)",
      "Cell \u001b[1;32mIn[29], line 15\u001b[0m\n\u001b[0;32m     13\u001b[0m \u001b[38;5;28mprint\u001b[39m(\u001b[38;5;124mf\u001b[39m\u001b[38;5;124m\"\u001b[39m\u001b[38;5;124maverage grade - \u001b[39m\u001b[38;5;132;01m{\u001b[39;00maverage\u001b[38;5;132;01m:\u001b[39;00m\u001b[38;5;124m.2f\u001b[39m\u001b[38;5;132;01m}\u001b[39;00m\u001b[38;5;124m\"\u001b[39m)\n\u001b[0;32m     14\u001b[0m \u001b[38;5;28;01mfor\u001b[39;00m name \u001b[38;5;129;01min\u001b[39;00m students:\n\u001b[1;32m---> 15\u001b[0m     \u001b[38;5;28;01mif\u001b[39;00m \u001b[43mgrades\u001b[49m\u001b[38;5;241;43m>\u001b[39;49m\u001b[38;5;241;43m=\u001b[39;49m\u001b[43maverage\u001b[49m:\n\u001b[0;32m     16\u001b[0m         \u001b[38;5;28mprint\u001b[39m(\u001b[38;5;124mf\u001b[39m\u001b[38;5;124m\"\u001b[39m\u001b[38;5;124mstudent above average - \u001b[39m\u001b[38;5;132;01m{\u001b[39;00mname\u001b[38;5;132;01m}\u001b[39;00m\u001b[38;5;124m\"\u001b[39m)\n\u001b[0;32m     17\u001b[0m     \u001b[38;5;28;01melse\u001b[39;00m:\n",
      "\u001b[1;31mTypeError\u001b[0m: '>=' not supported between instances of 'list' and 'float'"
     ]
    }
   ],
   "source": [
    "students = [\n",
    "    (\"Alice\", 85),\n",
    "    (\"Bob\", 78),\n",
    "    (\"Charlie\", 92),\n",
    "    (\"David\", 74),\n",
    "    (\"Eve\", 88)\n",
    "]\n",
    "\n",
    "grades=[grade[1] for grade in students]\n",
    "total=sum(grades)\n",
    "length=len(grades)\n",
    "average=(total/length)\n",
    "print(f\"average grade - {average:.2f}\")\n",
    "for name in students:\n",
    "    if grades>=average:\n",
    "        print(f\"student above average - {name}\")\n",
    "    else:\n",
    "        print(\"you scored below than average\")"
   ]
  },
  {
   "cell_type": "markdown",
   "id": "87cf4d3f-389e-4a76-9bbd-bf1a94053a6a",
   "metadata": {},
   "source": [
    "**Question 9:**\n",
    "You have sales data for different branches of a company. Write a program that:\n",
    "\n",
    "Groups sales by city using a dictionary.\n",
    "\n",
    "Sums up total sales for each city.\n",
    "    \n",
    "Prints the sales summary.\n",
    "\n",
    "    branch_sales = [\n",
    "    (\"New York\", 15000),\n",
    "    (\"Los Angeles\", 12000),\n",
    "    (\"New York\", 18000),\n",
    "    (\"Chicago\", 10000),\n",
    "    (\"Los Angeles\", 14000)\n",
    "]"
   ]
  },
  {
   "cell_type": "code",
   "execution_count": 37,
   "id": "98578a39-7eff-4d2d-9915-50561f94a026",
   "metadata": {},
   "outputs": [
    {
     "name": "stdout",
     "output_type": "stream",
     "text": [
      "Sales summary {'New York': 33000, 'Los Angeles': 26000, 'Chicago': 10000}\n"
     ]
    }
   ],
   "source": [
    "branch_sales = [\n",
    "    (\"New York\", 15000),\n",
    "    (\"Los Angeles\", 12000),\n",
    "    (\"New York\", 18000),\n",
    "    (\"Chicago\", 10000),\n",
    "    (\"Los Angeles\", 14000)\n",
    "]\n",
    "summary={}\n",
    "for city,sales in branch_sales:\n",
    "    if city in summary:\n",
    "        summary[city] += sales\n",
    "    else:\n",
    "        summary[city] = sales\n",
    "\n",
    "print(f\"Sales summary {summary}\")\n",
    "\n"
   ]
  },
  {
   "cell_type": "markdown",
   "id": "e31a95e6-9055-44d7-92af-c8bbe3f4a4d5",
   "metadata": {},
   "source": [
    "**Question 10:**\n",
    "Write a Python program that:\n",
    "\n",
    "Generates a bar chart for monthly expenses.\n",
    "                     \n",
    "Displays categories on the x-axis and expense amounts on the y-axis.\n",
    "\n",
    "categories = [\"Rent\", \"Groceries\", \"Transport\", \"Entertainment\", \"Utilities\"]\n",
    "\n",
    "expenses = [15000, 5000, 3000, 4000, 2500]"
   ]
  },
  {
   "cell_type": "code",
   "execution_count": 36,
   "id": "21bf1b77-e4b8-43d7-96cc-4e66591b8027",
   "metadata": {},
   "outputs": [
    {
     "data": {
      "text/plain": [
       "[]"
      ]
     },
     "execution_count": 36,
     "metadata": {},
     "output_type": "execute_result"
    },
    {
     "data": {
      "image/png": "[encoded data removed]",
      "text/plain": [
       "<Figure size 640x480 with 1 Axes>"
      ]
     },
     "metadata": {},
     "output_type": "display_data"
    }
   ],
   "source": [
    "categories = [\"Rent\", \"Groceries\", \"Transport\", \"Entertainment\", \"Utilities\"]\n",
    "expenses = [15000, 5000, 3000, 4000, 2500]\n",
    "\n",
    "import matplotlib.pyplot as plt\n",
    "plt.bar(categories,expenses,color=\"black\")\n",
    "plt.xlabel(\"categories\")\n",
    "plt.ylabel(\"expenses\")\n",
    "plt.title(\"monthly expenses\")\n",
    "plt.plot()"
   ]
  }
 ],
 "metadata": {
  "kernelspec": {
   "display_name": "base",
   "language": "python",
   "name": "python3"
  },
  "language_info": {
   "codemirror_mode": {
    "name": "ipython",
    "version": 3
   },
   "file_extension": ".py",
   "mimetype": "text/x-python",
   "name": "python",
   "nbconvert_exporter": "python",
   "pygments_lexer": "ipython3",
   "version": "3.12.7"
  }
 },
 "nbformat": 4,
 "nbformat_minor": 5
}
