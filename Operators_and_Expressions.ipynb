{
 "cells": [
  {
   "cell_type": "markdown",
   "id": "1a1f7fe6",
   "metadata": {},
   "source": [
    "# Operators & Expression"
   ]
  },
  {
   "cell_type": "markdown",
   "id": "dc6f9532-83de-45b2-9711-3d62783f8e84",
   "metadata": {},
   "source": [
    "1. Perform addition, subtraction, multiplication, division, and modulus of two numbers.\n"
   ]
  },
  {
   "cell_type": "code",
   "execution_count": 15,
   "id": "86b82119-e5e2-4387-adc5-7f1dfac68c91",
   "metadata": {},
   "outputs": [
    {
     "name": "stdout",
     "output_type": "stream",
     "text": [
      "11\n",
      "3\n",
      "28\n",
      "1.75\n",
      "3\n"
     ]
    }
   ],
   "source": [
    "a=7\n",
    "b=4\n",
    "print(a+b)\n",
    "print(a-b)\n",
    "print(a*b)\n",
    "print(a/b)\n",
    "print(a%b)"
   ]
  },
  {
   "cell_type": "markdown",
   "id": "eb81bb3f-58bd-48d6-a3f6-3357a06092a5",
   "metadata": {},
   "source": [
    "2. Swap two numbers without using a third variable.\n"
   ]
  },
  {
   "cell_type": "code",
   "execution_count": 1,
   "id": "e7b2dbcb-567d-49f4-95f7-aeab33576e9c",
   "metadata": {},
   "outputs": [
    {
     "name": "stdout",
     "output_type": "stream",
     "text": [
      "a= 10\n",
      "b= 5\n"
     ]
    }
   ],
   "source": [
    "a=5\n",
    "b=10\n",
    "c=a\n",
    "a=b\n",
    "b=c\n",
    "print(\"a=\",a)\n",
    "print(\"b=\",b)"
   ]
  },
  {
   "cell_type": "markdown",
   "id": "95d9886e-82d1-4ab3-ba39-6c65ffd0ec13",
   "metadata": {},
   "source": [
    "3. Check whether a given number is even or odd using the modulus operator.\n"
   ]
  },
  {
   "cell_type": "code",
   "execution_count": 2,
   "id": "ebed9ba1-25a8-4b2b-8762-c266f064fd3d",
   "metadata": {},
   "outputs": [
    {
     "name": "stdout",
     "output_type": "stream",
     "text": [
      "a is even\n"
     ]
    }
   ],
   "source": [
    "a=6\n",
    "if a%2==0:\n",
    "    print(\"a is even\")\n",
    "else:\n",
    "    print(\"a is odd\")"
   ]
  },
  {
   "cell_type": "markdown",
   "id": "fe55618d-0480-4f04-becc-77143ea8d904",
   "metadata": {},
   "source": [
    "4. Calculate simple interest using SI=(P×R×T)/100.\n"
   ]
  },
  {
   "cell_type": "code",
   "execution_count": 3,
   "id": "1dd1822e-683e-451e-8a27-4a47faaea431",
   "metadata": {},
   "outputs": [
    {
     "name": "stdout",
     "output_type": "stream",
     "text": [
      "2500.0\n"
     ]
    }
   ],
   "source": [
    "principal=5000\n",
    "rate=5\n",
    "time=10\n",
    "si=(principal*rate*time)/100\n",
    "print(si)"
   ]
  },
  {
   "cell_type": "markdown",
   "id": "3fd4160d-5f76-4dfd-a014-e1728c90d27e",
   "metadata": {},
   "source": [
    "5. Compute the area of a circle using Area=π×r^2.\n"
   ]
  },
  {
   "cell_type": "code",
   "execution_count": 4,
   "id": "f3e11e9a-190c-4d4b-8b89-d6e1a52b092a",
   "metadata": {},
   "outputs": [
    {
     "name": "stdout",
     "output_type": "stream",
     "text": [
      "78.5\n"
     ]
    }
   ],
   "source": [
    "r=5\n",
    "π=3.14\n",
    "area=(π*(r**2))\n",
    "print(area)"
   ]
  },
  {
   "cell_type": "markdown",
   "id": "b7189a15-585c-41c4-991a-3a85a52893a3",
   "metadata": {},
   "source": [
    "6. Find the square and cube of a given number.\n"
   ]
  },
  {
   "cell_type": "code",
   "execution_count": 5,
   "id": "86af2cb8-9095-40b0-ae25-cf9984683129",
   "metadata": {},
   "outputs": [
    {
     "name": "stdout",
     "output_type": "stream",
     "text": [
      "25\n",
      "125\n"
     ]
    }
   ],
   "source": [
    "a=5\n",
    "square=a**2\n",
    "cube=a**3\n",
    "print(square)\n",
    "print(cube)"
   ]
  },
  {
   "cell_type": "markdown",
   "id": "ef54f1e5-cc22-4bb8-bda0-3f4393600a6e",
   "metadata": {},
   "source": [
    "7. Convert temperature from Celsius to Fahrenheit and vice versa.\n"
   ]
  },
  {
   "cell_type": "code",
   "execution_count": 6,
   "id": "2a10c766-2b8c-433f-a0dc-fea6c4e12694",
   "metadata": {},
   "outputs": [
    {
     "name": "stdout",
     "output_type": "stream",
     "text": [
      "77.0\n"
     ]
    }
   ],
   "source": [
    "celsius=25\n",
    "fahrenheit=(celsius*(9/5)+32)\n",
    "print(fahrenheit)"
   ]
  },
  {
   "cell_type": "markdown",
   "id": "a5ec1395-0eeb-4a01-9ba5-f9c38b2a9b66",
   "metadata": {},
   "source": [
    "8. Find the quotient and remainder when one number is divided by another.\n"
   ]
  },
  {
   "cell_type": "code",
   "execution_count": 7,
   "id": "b70ead6e-021a-4085-bb5e-f8902cb43381",
   "metadata": {},
   "outputs": [
    {
     "name": "stdout",
     "output_type": "stream",
     "text": [
      "2\n",
      "1\n"
     ]
    }
   ],
   "source": [
    "a=7\n",
    "b=5\n",
    "remainder=(a%b)\n",
    "print(remainder)\n",
    "quotient=(a//b)\n",
    "print(quotient)"
   ]
  },
  {
   "cell_type": "markdown",
   "id": "2634d7f3-f847-4a78-a293-2d0033afcf6a",
   "metadata": {},
   "source": [
    "9. Compute the perimeter and area of a rectangle given its length and breadth.\n"
   ]
  },
  {
   "cell_type": "code",
   "execution_count": 8,
   "id": "3ef428ee-4b1e-4b84-b300-25587608044c",
   "metadata": {},
   "outputs": [
    {
     "name": "stdout",
     "output_type": "stream",
     "text": [
      "14\n"
     ]
    }
   ],
   "source": [
    "l=5\n",
    "b=2\n",
    "per=2*(l+b)\n",
    "print(per)"
   ]
  },
  {
   "cell_type": "markdown",
   "id": "2b02ee3c-4030-48f9-8345-83481ac109a5",
   "metadata": {},
   "source": [
    "10. Take a number as input and check whether it is positive, negative, or zero."
   ]
  },
  {
   "cell_type": "code",
   "execution_count": 9,
   "id": "507a28bd-3747-4640-aa33-59e67923fefd",
   "metadata": {},
   "outputs": [
    {
     "name": "stdout",
     "output_type": "stream",
     "text": [
      "45\n",
      "positive\n"
     ]
    }
   ],
   "source": [
    "a=int(input(\"enter a number - \"))\n",
    "print(a)\n",
    "if a>0:\n",
    "    print(\"positive\")\n",
    "elif a<0:\n",
    "    print(\"negative\")\n",
    "else:\n",
    "    print(\"zero\")"
   ]
  },
  {
   "cell_type": "markdown",
   "id": "fd22bf9d-1ffc-4211-9b95-dd46c416585f",
   "metadata": {},
   "source": [
    "11. Find the largest among three numbers using conditional operators.\n"
   ]
  },
  {
   "cell_type": "code",
   "execution_count": 10,
   "id": "c4a4c27c-d8aa-45f8-b097-a5f960f39738",
   "metadata": {},
   "outputs": [
    {
     "name": "stdout",
     "output_type": "stream",
     "text": [
      "99 is the largest\n"
     ]
    }
   ],
   "source": [
    "a=int(input(\"type the value of a\"))\n",
    "b=int(input(\"type the value of b\"))\n",
    "c=int(input(\"type the value of c\"))\n",
    "if a>b:\n",
    "    if a>c:\n",
    "        print(f\"{a} is the largest\")\n",
    "    else:\n",
    "        print(f\"{c} is the largest\")\n",
    "elif b>a:\n",
    "    if b>c:\n",
    "        print(f\"{b} is the largest\")\n",
    "    else:\n",
    "        print(f\"{c} is the largest\")"
   ]
  },
  {
   "cell_type": "markdown",
   "id": "95e8cdbe-89d9-4583-be6c-5c4cf167ef86",
   "metadata": {},
   "source": [
    "12. Perform bitwise AND, OR, XOR, left shift, and right shift operations on two integers.\n"
   ]
  },
  {
   "cell_type": "markdown",
   "id": "732e3496-d776-442a-a5e0-8946337abfba",
   "metadata": {},
   "source": [
    "13. Check whether a given year is a leap year using logical and relational operators.\n"
   ]
  },
  {
   "cell_type": "code",
   "execution_count": 11,
   "id": "7c93761d-8514-4651-9c35-5be7eaabbbd1",
   "metadata": {},
   "outputs": [
    {
     "name": "stdout",
     "output_type": "stream",
     "text": [
      "it is not a leap year\n"
     ]
    }
   ],
   "source": [
    "year=int(input(\"enter the year which you want to check\"))\n",
    "if year%4==0 and year%100!=0 or year%400==0:\n",
    "    print(\"it is a leap year\")\n",
    "else:\n",
    "    print(\"it is not a leap year\")"
   ]
  },
  {
   "cell_type": "markdown",
   "id": "dba6c9a0-a753-461c-bdce-a1ee4fa3e077",
   "metadata": {},
   "source": [
    "14. Compute x^y without using the pow() function.\n"
   ]
  },
  {
   "cell_type": "code",
   "execution_count": 12,
   "id": "425b3266-88bf-4230-be47-1927cb224dc2",
   "metadata": {},
   "outputs": [
    {
     "name": "stdout",
     "output_type": "stream",
     "text": [
      "25\n"
     ]
    }
   ],
   "source": [
    "x=5\n",
    "y=2\n",
    "print(x**y)"
   ]
  },
  {
   "cell_type": "markdown",
   "id": "3c24f8b2-db16-40b9-afe4-e454544f4aef",
   "metadata": {},
   "source": [
    "15. Compute compound interest using CI=P×(1+R/100)^T−P.\n"
   ]
  },
  {
   "cell_type": "code",
   "execution_count": 13,
   "id": "79123983-608f-4071-9b3a-2dfab5e53f70",
   "metadata": {},
   "outputs": [
    {
     "name": "stdout",
     "output_type": "stream",
     "text": [
      "3144.4731338872098\n"
     ]
    }
   ],
   "source": [
    "principal=5000\n",
    "rate=5\n",
    "time=10\n",
    "ci=(principal*((1+(rate/100))**time)-principal)\n",
    "print(ci)"
   ]
  },
  {
   "cell_type": "markdown",
   "id": "6bf289b9-07ac-492b-b4f1-0a1b629e9464",
   "metadata": {},
   "source": [
    "17. Find the smallest of three numbers using the ternary operator.\n"
   ]
  },
  {
   "cell_type": "code",
   "execution_count": 14,
   "id": "f2eb6003-fc2b-433d-8850-29d31f9a207d",
   "metadata": {},
   "outputs": [
    {
     "name": "stdout",
     "output_type": "stream",
     "text": [
      "41 is the smallest\n"
     ]
    }
   ],
   "source": [
    "a=int(input(\"type the value of a\"))\n",
    "b=int(input(\"type the value of b\"))\n",
    "c=int(input(\"type the value of c\"))\n",
    "if a<b:\n",
    "    if a<c:\n",
    "        print(f\"{a} is the smallest\")\n",
    "    else:\n",
    "        print(f\"{c} is the smallest\")\n",
    "elif b<a:\n",
    "    if b<c:\n",
    "        print(f\"{b} is the smallest\")\n",
    "    else:\n",
    "        print(f\"{c} is the smallest\")"
   ]
  }
 ],
 "metadata": {
  "kernelspec": {
   "display_name": "base",
   "language": "python",
   "name": "python3"
  },
  "language_info": {
   "codemirror_mode": {
    "name": "ipython",
    "version": 3
   },
   "file_extension": ".py",
   "mimetype": "text/x-python",
   "name": "python",
   "nbconvert_exporter": "python",
   "pygments_lexer": "ipython3",
   "version": "3.12.7"
  }
 },
 "nbformat": 4,
 "nbformat_minor": 5
}
